{
  "nbformat": 4,
  "nbformat_minor": 0,
  "metadata": {
    "colab": {
      "name": "Inter_IIT_NER.ipynb",
      "provenance": [],
      "collapsed_sections": []
    },
    "kernelspec": {
      "name": "python3",
      "display_name": "Python 3"
    },
    "accelerator": "GPU"
  },
  "cells": [
    {
      "cell_type": "code",
      "metadata": {
        "id": "wFJUPveSEuqE"
      },
      "source": [
        "import pandas as pd\r\n",
        "import numpy as np"
      ],
      "execution_count": null,
      "outputs": []
    },
    {
      "cell_type": "code",
      "metadata": {
        "id": "wvaWpWMQFHKf"
      },
      "source": [
        "data_tweet=pd.read_excel('/content/dev_data_tweet.xlsx')\r\n",
        "data_tweet=data_tweet[data_tweet['Mobile_Tech_Tag']==1]"
      ],
      "execution_count": null,
      "outputs": []
    },
    {
      "cell_type": "code",
      "metadata": {
        "id": "7EZOjqg3G1hm"
      },
      "source": [
        "#data_tweet"
      ],
      "execution_count": null,
      "outputs": []
    },
    {
      "cell_type": "code",
      "metadata": {
        "colab": {
          "base_uri": "https://localhost:8080/"
        },
        "id": "HsRJQeL4FNcf",
        "outputId": "5255806d-5780-4c73-cbb5-fd08356cde6f"
      },
      "source": [
        "import nltk\r\n",
        "nltk.download('punkt')\r\n",
        "nltk.download('wordnet')\r\n",
        "nltk.download('stopwords')\r\n",
        "from nltk.stem import PorterStemmer\r\n",
        "from nltk.stem import WordNetLemmatizer\r\n",
        "\r\n",
        "from nltk.corpus import stopwords\r\n",
        "import re\r\n",
        "from nltk.corpus import stopwords\r\n",
        "from nltk.corpus import wordnet\r\n",
        "from nltk.tokenize import word_tokenize\r\n",
        "import string\r\n",
        "from nltk.tokenize.toktok import ToktokTokenizer\r\n",
        "import unicodedata\r\n",
        "\r\n",
        "#!pip install emoji\r\n",
        "import emoji\r\n",
        "from textblob import TextBlob"
      ],
      "execution_count": null,
      "outputs": [
        {
          "output_type": "stream",
          "text": [
            "[nltk_data] Downloading package punkt to /root/nltk_data...\n",
            "[nltk_data]   Package punkt is already up-to-date!\n",
            "[nltk_data] Downloading package wordnet to /root/nltk_data...\n",
            "[nltk_data]   Package wordnet is already up-to-date!\n",
            "[nltk_data] Downloading package stopwords to /root/nltk_data...\n",
            "[nltk_data]   Package stopwords is already up-to-date!\n"
          ],
          "name": "stdout"
        }
      ]
    },
    {
      "cell_type": "code",
      "metadata": {
        "id": "OTJPZxxtFP1-"
      },
      "source": [
        "stemmer=PorterStemmer()\r\n",
        "lemmatizer=WordNetLemmatizer()"
      ],
      "execution_count": null,
      "outputs": []
    },
    {
      "cell_type": "code",
      "metadata": {
        "id": "NXULJ6CJGZtC"
      },
      "source": [
        "def remove_punct(texts):\r\n",
        "  punkts='!\"#$%&\\'()*+,-./:;<=>?@[\\\\]^_`{|}~'\r\n",
        "  lis=[]\r\n",
        "  for char in punkts:\r\n",
        "    lis.append(char)\r\n",
        "   \r\n",
        "  \r\n",
        "\r\n",
        "  no_punct=''\r\n",
        "  for c in texts:\r\n",
        "    if(c not in lis):\r\n",
        "      no_punct+=c\r\n",
        "  \r\n",
        "  return no_punct.strip()"
      ],
      "execution_count": null,
      "outputs": []
    },
    {
      "cell_type": "code",
      "metadata": {
        "id": "z-lE5VRdcxig"
      },
      "source": [
        "tokenizer = ToktokTokenizer()\r\n",
        "stopword_list = nltk.corpus.stopwords.words('english')\r\n",
        "stopword_list.remove('no')\r\n",
        "stopword_list.remove('not')"
      ],
      "execution_count": null,
      "outputs": []
    },
    {
      "cell_type": "code",
      "metadata": {
        "id": "5G-JbbQ0eUn-"
      },
      "source": [
        "#@title Contraction_Mapping (Run this)\n",
        "\n",
        "contraction_mapping = {\"ain't\": \"is not\", \"aren't\": \"are not\",\"can't\": \"cannot\", \"'cause\": \"because\", \"could've\": \"could have\", \"couldn't\": \"could not\",\n",
        "\n",
        "                           \"didn't\": \"did not\", \"doesn't\": \"does not\", \"don't\": \"do not\", \"hadn't\": \"had not\", \"hasn't\": \"has not\", \"haven't\": \"have not\",\n",
        "\n",
        "                           \"he'd\": \"he would\",\"he'll\": \"he will\", \"he's\": \"he is\", \"how'd\": \"how did\", \"how'd'y\": \"how do you\", \"how'll\": \"how will\", \"how's\": \"how is\",\n",
        "\n",
        "                           \"I'd\": \"I would\", \"I'd've\": \"I would have\", \"I'll\": \"I will\", \"I'll've\": \"I will have\",\"I'm\": \"I am\", \"I've\": \"I have\", \"i'd\": \"i would\",\n",
        "\n",
        "                           \"i'd've\": \"i would have\", \"i'll\": \"i will\",  \"i'll've\": \"i will have\",\"i'm\": \"i am\", \"i've\": \"i have\", \"isn't\": \"is not\", \"it'd\": \"it would\",\n",
        "\n",
        "                           \"it'd've\": \"it would have\", \"it'll\": \"it will\", \"it'll've\": \"it will have\",\"it's\": \"it is\", \"let's\": \"let us\", \"ma'am\": \"madam\",\n",
        "\n",
        "                           \"mayn't\": \"may not\", \"might've\": \"might have\",\"mightn't\": \"might not\",\"mightn't've\": \"might not have\", \"must've\": \"must have\",\n",
        "\n",
        "                           \"mustn't\": \"must not\", \"mustn't've\": \"must not have\", \"needn't\": \"need not\", \"needn't've\": \"need not have\",\"o'clock\": \"of the clock\",\n",
        "\n",
        "                           \"oughtn't\": \"ought not\", \"oughtn't've\": \"ought not have\", \"shan't\": \"shall not\", \"sha'n't\": \"shall not\", \"shan't've\": \"shall not have\",\n",
        "\n",
        "                           \"she'd\": \"she would\", \"she'd've\": \"she would have\", \"she'll\": \"she will\", \"she'll've\": \"she will have\", \"she's\": \"she is\",\n",
        "\n",
        "                           \"should've\": \"should have\", \"shouldn't\": \"should not\", \"shouldn't've\": \"should not have\", \"so've\": \"so have\",\"so's\": \"so as\",\n",
        "\n",
        "                           \"this's\": \"this is\",\"that'd\": \"that would\", \"that'd've\": \"that would have\", \"that's\": \"that is\", \"there'd\": \"there would\",\n",
        "\n",
        "                           \"there'd've\": \"there would have\", \"there's\": \"there is\", \"here's\": \"here is\",\"they'd\": \"they would\", \"they'd've\": \"they would have\",\n",
        "\n",
        "                           \"they'll\": \"they will\", \"they'll've\": \"they will have\", \"they're\": \"they are\", \"they've\": \"they have\", \"to've\": \"to have\",\n",
        "\n",
        "                           \"wasn't\": \"was not\", \"we'd\": \"we would\", \"we'd've\": \"we would have\", \"we'll\": \"we will\", \"we'll've\": \"we will have\", \"we're\": \"we are\",\n",
        "\n",
        "                           \"we've\": \"we have\", \"weren't\": \"were not\", \"what'll\": \"what will\", \"what'll've\": \"what will have\", \"what're\": \"what are\",\n",
        "\n",
        "                           \"what's\": \"what is\", \"what've\": \"what have\", \"when's\": \"when is\", \"when've\": \"when have\", \"where'd\": \"where did\", \"where's\": \"where is\",\n",
        "\n",
        "                           \"where've\": \"where have\", \"who'll\": \"who will\", \"who'll've\": \"who will have\", \"who's\": \"who is\", \"who've\": \"who have\",\n",
        "\n",
        "                           \"why's\": \"why is\", \"why've\": \"why have\", \"will've\": \"will have\", \"won't\": \"will not\", \"won't've\": \"will not have\",\n",
        "\n",
        "                           \"would've\": \"would have\", \"wouldn't\": \"would not\", \"wouldn't've\": \"would not have\", \"y'all\": \"you all\",\n",
        "\n",
        "                           \"y'all'd\": \"you all would\",\"y'all'd've\": \"you all would have\",\"y'all're\": \"you all are\",\"y'all've\": \"you all have\",\n",
        "\n",
        "                           \"you'd\": \"you would\", \"you'd've\": \"you would have\", \"you'll\": \"you will\", \"you'll've\": \"you will have\",\n",
        "\n",
        "                           \"you're\": \"you are\", \"you've\": \"you have\"}"
      ],
      "execution_count": null,
      "outputs": []
    },
    {
      "cell_type": "code",
      "metadata": {
        "id": "Yj1sCxh_cp_6"
      },
      "source": [
        "def remove_stopwords(text, is_lower_case=False):\r\n",
        "    tokens = tokenizer.tokenize(text)\r\n",
        "    tokens = [token.strip() for token in tokens]\r\n",
        "    if is_lower_case:\r\n",
        "        filtered_tokens = [token for token in tokens if token not in stopword_list]\r\n",
        "    else:\r\n",
        "        filtered_tokens = [token for token in tokens if token.lower() not in stopword_list]\r\n",
        "    filtered_text = ' '.join(filtered_tokens)    \r\n",
        "    return filtered_text"
      ],
      "execution_count": null,
      "outputs": []
    },
    {
      "cell_type": "code",
      "metadata": {
        "id": "M4gDOWHBda4R"
      },
      "source": [
        "def expand_contractions(text, contraction_mapping=contraction_mapping):\r\n",
        "    \r\n",
        "    contractions_pattern = re.compile('({})'.format('|'.join(contraction_mapping.keys())), \r\n",
        "                                      flags=re.IGNORECASE|re.DOTALL)\r\n",
        "    def expand_match(contraction):\r\n",
        "        match = contraction.group(0)\r\n",
        "        first_char = match[0]\r\n",
        "        expanded_contraction = contraction_mapping.get(match)\\\r\n",
        "                                if contraction_mapping.get(match)\\\r\n",
        "                                else contraction_mapping.get(match.lower())                       \r\n",
        "        expanded_contraction = first_char+expanded_contraction[1:]\r\n",
        "        return expanded_contraction\r\n",
        "        \r\n",
        "    expanded_text = contractions_pattern.sub(expand_match, text)\r\n",
        "    expanded_text = re.sub(\"'\", \"\", expanded_text)\r\n",
        "    return expanded_text"
      ],
      "execution_count": null,
      "outputs": []
    },
    {
      "cell_type": "code",
      "metadata": {
        "id": "SQCz_AefQGYo"
      },
      "source": [
        "from bs4 import BeautifulSoup\r\n",
        "def strip_html_tags(text):\r\n",
        "    soup = BeautifulSoup(text, \"html.parser\")\r\n",
        "    stripped_text = soup.get_text()\r\n",
        "    return stripped_text"
      ],
      "execution_count": null,
      "outputs": []
    },
    {
      "cell_type": "code",
      "metadata": {
        "id": "EDvFNzeUg4em"
      },
      "source": [
        "def remove_accented_chars(text):\r\n",
        "    text = unicodedata.normalize('NFKD', text).encode('ascii', 'ignore').decode('utf-8', 'ignore')\r\n",
        "    return text"
      ],
      "execution_count": null,
      "outputs": []
    },
    {
      "cell_type": "code",
      "metadata": {
        "id": "XEZfGaq5i5uT"
      },
      "source": [
        "def demojize(text):\r\n",
        "  tweet = emoji.demojize(text)\r\n",
        "  tweet = tweet.replace(\":\",\" \")\r\n",
        "  tweet = ' '.join(tweet.split())\r\n",
        "  return(tweet)"
      ],
      "execution_count": null,
      "outputs": []
    },
    {
      "cell_type": "code",
      "metadata": {
        "id": "3alJwNzRy8UV"
      },
      "source": [
        "def remove_https(text):\r\n",
        "  sent=''\r\n",
        "  for word in text.split():\r\n",
        "    if(word[:5]=='https'):\r\n",
        "      continue\r\n",
        "    else:\r\n",
        "      sent+=' '+word\r\n",
        "  return(sent.strip())    \r\n"
      ],
      "execution_count": null,
      "outputs": []
    },
    {
      "cell_type": "code",
      "metadata": {
        "id": "y1wxaLQeHoNA"
      },
      "source": [
        "def remove_handle_names(text):\r\n",
        "  sent=''\r\n",
        "  for word in text.split():\r\n",
        "    if(word[0]=='@' or word=='QT' or word=='RT'):\r\n",
        "      continue\r\n",
        "    else:\r\n",
        "      sent+=' '+word\r\n",
        "\r\n",
        "  return(sent.strip())  "
      ],
      "execution_count": null,
      "outputs": []
    },
    {
      "cell_type": "code",
      "metadata": {
        "cellView": "form",
        "id": "Kml3a4qAduGO"
      },
      "source": [
        "#@title Not required\n",
        "\n",
        "def change_contractions(text):\n",
        "  sent=''\n",
        "  for word in text.split():\n",
        "    if(word.lower() in contraction_mapping.keys()):\n",
        "      sent+=\" \"+contraction_mapping[word.lower()]\n",
        "    else:\n",
        "      sent+=' '+word.lower()\n",
        "  \n",
        "  return(sent.strip())      \n",
        "\n",
        "def word_lemmat(text):\n",
        "  lemma_text=[lemmatizer.lemmatize(i) for i in text]\n",
        "  return  lemma_text\n",
        "\n",
        "def word_stemmer(text):\n",
        "  stem_text=[stemmer.stem(i) for i in text]\n",
        "  return  stem_text  "
      ],
      "execution_count": null,
      "outputs": []
    },
    {
      "cell_type": "code",
      "metadata": {
        "id": "M92z2AhaQHop"
      },
      "source": [
        "data_tweet['Tweet']=data_tweet['Tweet'].apply(lambda x:remove_handle_names(x))\r\n",
        "data_tweet['Tweet']=data_tweet['Tweet'].apply(lambda x:strip_html_tags(x))\r\n",
        "data_tweet['Tweet']=data_tweet['Tweet'].apply(lambda x:expand_contractions(x))\r\n",
        "data_tweet['Tweet']=data_tweet['Tweet'].apply(lambda x:remove_punct(x))\r\n",
        "data_tweet['Tweet']=data_tweet['Tweet'].apply(lambda x:remove_stopwords(x))\r\n",
        "data_tweet['Tweet']=data_tweet['Tweet'].apply(lambda x:demojize(x))\r\n",
        "data_tweet['Tweet']=data_tweet['Tweet'].apply(lambda x:remove_punct(x))\r\n",
        "data_tweet['Tweet']=data_tweet['Tweet'].apply(lambda x:remove_https(x))"
      ],
      "execution_count": null,
      "outputs": []
    },
    {
      "cell_type": "code",
      "metadata": {
        "colab": {
          "base_uri": "https://localhost:8080/",
          "height": 419
        },
        "id": "q3HSjF0iH3CR",
        "outputId": "f949a40e-3398-4eba-b564-64ab6f833390"
      },
      "source": [
        "data_tweet\r\n",
        "#data_tweet['Tweet']=data_tweet['Tweet'].apply(lambda x:demojize(x))"
      ],
      "execution_count": null,
      "outputs": [
        {
          "output_type": "execute_result",
          "data": {
            "text/html": [
              "<div>\n",
              "<style scoped>\n",
              "    .dataframe tbody tr th:only-of-type {\n",
              "        vertical-align: middle;\n",
              "    }\n",
              "\n",
              "    .dataframe tbody tr th {\n",
              "        vertical-align: top;\n",
              "    }\n",
              "\n",
              "    .dataframe thead th {\n",
              "        text-align: right;\n",
              "    }\n",
              "</style>\n",
              "<table border=\"1\" class=\"dataframe\">\n",
              "  <thead>\n",
              "    <tr style=\"text-align: right;\">\n",
              "      <th></th>\n",
              "      <th>Tweet_ID</th>\n",
              "      <th>Tweet</th>\n",
              "      <th>Mobile_Tech_Tag</th>\n",
              "    </tr>\n",
              "  </thead>\n",
              "  <tbody>\n",
              "    <tr>\n",
              "      <th>3000</th>\n",
              "      <td>tweet_3001</td>\n",
              "      <td>Samsung making another addition series word up...</td>\n",
              "      <td>1</td>\n",
              "    </tr>\n",
              "    <tr>\n",
              "      <th>3001</th>\n",
              "      <td>tweet_3002</td>\n",
              "      <td>Want hands GalaxyS21 pleadingface Samsung Gala...</td>\n",
              "      <td>1</td>\n",
              "    </tr>\n",
              "    <tr>\n",
              "      <th>3002</th>\n",
              "      <td>tweet_3003</td>\n",
              "      <td>next level camera starstruck GalaxyS21 Samsung...</td>\n",
              "      <td>1</td>\n",
              "    </tr>\n",
              "    <tr>\n",
              "      <th>3003</th>\n",
              "      <td>tweet_3004</td>\n",
              "      <td>Trick get Google Home Mini 499 Without Timespr...</td>\n",
              "      <td>1</td>\n",
              "    </tr>\n",
              "    <tr>\n",
              "      <th>3004</th>\n",
              "      <td>tweet_3005</td>\n",
              "      <td>pioneers 64MP Smartphone Camera technology Ind...</td>\n",
              "      <td>1</td>\n",
              "    </tr>\n",
              "    <tr>\n",
              "      <th>...</th>\n",
              "      <td>...</td>\n",
              "      <td>...</td>\n",
              "      <td>...</td>\n",
              "    </tr>\n",
              "    <tr>\n",
              "      <th>3995</th>\n",
              "      <td>tweet_3996</td>\n",
              "      <td>चीनी मोबाइल कंपनी रियलमी ने अपना Realme V15 5G...</td>\n",
              "      <td>1</td>\n",
              "    </tr>\n",
              "    <tr>\n",
              "      <th>3996</th>\n",
              "      <td>tweet_3997</td>\n",
              "      <td>चीनी मोबाइल कंपनी रियलमी ने अपना Realme V15 5G...</td>\n",
              "      <td>1</td>\n",
              "    </tr>\n",
              "    <tr>\n",
              "      <th>3997</th>\n",
              "      <td>tweet_3998</td>\n",
              "      <td>चीनी मोबाइल कंपनी रियलमी ने अपना Realme V15 5G...</td>\n",
              "      <td>1</td>\n",
              "    </tr>\n",
              "    <tr>\n",
              "      <th>3998</th>\n",
              "      <td>tweet_3999</td>\n",
              "      <td>Aapne phone hi galat choose KR liya haisorry s...</td>\n",
              "      <td>1</td>\n",
              "    </tr>\n",
              "    <tr>\n",
              "      <th>3999</th>\n",
              "      <td>tweet_4000</td>\n",
              "      <td>पर bhaib5g इंडिया में कब आयेगा । Dosto 2021 Me...</td>\n",
              "      <td>1</td>\n",
              "    </tr>\n",
              "  </tbody>\n",
              "</table>\n",
              "<p>1000 rows × 3 columns</p>\n",
              "</div>"
            ],
            "text/plain": [
              "        Tweet_ID  ... Mobile_Tech_Tag\n",
              "3000  tweet_3001  ...               1\n",
              "3001  tweet_3002  ...               1\n",
              "3002  tweet_3003  ...               1\n",
              "3003  tweet_3004  ...               1\n",
              "3004  tweet_3005  ...               1\n",
              "...          ...  ...             ...\n",
              "3995  tweet_3996  ...               1\n",
              "3996  tweet_3997  ...               1\n",
              "3997  tweet_3998  ...               1\n",
              "3998  tweet_3999  ...               1\n",
              "3999  tweet_4000  ...               1\n",
              "\n",
              "[1000 rows x 3 columns]"
            ]
          },
          "metadata": {
            "tags": []
          },
          "execution_count": 42
        }
      ]
    },
    {
      "cell_type": "code",
      "metadata": {
        "id": "bg2t2rxRhm8A"
      },
      "source": [
        "#data_tweet.to_csv('Cleaned_Mobile_tech_file.csv')"
      ],
      "execution_count": null,
      "outputs": []
    },
    {
      "cell_type": "code",
      "metadata": {
        "colab": {
          "base_uri": "https://localhost:8080/",
          "height": 419
        },
        "id": "53jdEA9ZuSVI",
        "outputId": "9585dfa2-7ca1-4167-b8d7-0bc8a421e7eb"
      },
      "source": [
        "data_tweet"
      ],
      "execution_count": null,
      "outputs": [
        {
          "output_type": "execute_result",
          "data": {
            "text/html": [
              "<div>\n",
              "<style scoped>\n",
              "    .dataframe tbody tr th:only-of-type {\n",
              "        vertical-align: middle;\n",
              "    }\n",
              "\n",
              "    .dataframe tbody tr th {\n",
              "        vertical-align: top;\n",
              "    }\n",
              "\n",
              "    .dataframe thead th {\n",
              "        text-align: right;\n",
              "    }\n",
              "</style>\n",
              "<table border=\"1\" class=\"dataframe\">\n",
              "  <thead>\n",
              "    <tr style=\"text-align: right;\">\n",
              "      <th></th>\n",
              "      <th>Tweet_ID</th>\n",
              "      <th>Tweet</th>\n",
              "      <th>Mobile_Tech_Tag</th>\n",
              "    </tr>\n",
              "  </thead>\n",
              "  <tbody>\n",
              "    <tr>\n",
              "      <th>3000</th>\n",
              "      <td>tweet_3001</td>\n",
              "      <td>Samsung making another addition series word up...</td>\n",
              "      <td>1</td>\n",
              "    </tr>\n",
              "    <tr>\n",
              "      <th>3001</th>\n",
              "      <td>tweet_3002</td>\n",
              "      <td>Want hands GalaxyS21 pleadingface Samsung Gala...</td>\n",
              "      <td>1</td>\n",
              "    </tr>\n",
              "    <tr>\n",
              "      <th>3002</th>\n",
              "      <td>tweet_3003</td>\n",
              "      <td>next level camera starstruck GalaxyS21 Samsung...</td>\n",
              "      <td>1</td>\n",
              "    </tr>\n",
              "    <tr>\n",
              "      <th>3003</th>\n",
              "      <td>tweet_3004</td>\n",
              "      <td>Trick get Google Home Mini 499 Without Timespr...</td>\n",
              "      <td>1</td>\n",
              "    </tr>\n",
              "    <tr>\n",
              "      <th>3004</th>\n",
              "      <td>tweet_3005</td>\n",
              "      <td>pioneers 64MP Smartphone Camera technology Ind...</td>\n",
              "      <td>1</td>\n",
              "    </tr>\n",
              "    <tr>\n",
              "      <th>...</th>\n",
              "      <td>...</td>\n",
              "      <td>...</td>\n",
              "      <td>...</td>\n",
              "    </tr>\n",
              "    <tr>\n",
              "      <th>3995</th>\n",
              "      <td>tweet_3996</td>\n",
              "      <td>चीनी मोबाइल कंपनी रियलमी ने अपना Realme V15 5G...</td>\n",
              "      <td>1</td>\n",
              "    </tr>\n",
              "    <tr>\n",
              "      <th>3996</th>\n",
              "      <td>tweet_3997</td>\n",
              "      <td>चीनी मोबाइल कंपनी रियलमी ने अपना Realme V15 5G...</td>\n",
              "      <td>1</td>\n",
              "    </tr>\n",
              "    <tr>\n",
              "      <th>3997</th>\n",
              "      <td>tweet_3998</td>\n",
              "      <td>चीनी मोबाइल कंपनी रियलमी ने अपना Realme V15 5G...</td>\n",
              "      <td>1</td>\n",
              "    </tr>\n",
              "    <tr>\n",
              "      <th>3998</th>\n",
              "      <td>tweet_3999</td>\n",
              "      <td>Aapne phone hi galat choose KR liya haisorry s...</td>\n",
              "      <td>1</td>\n",
              "    </tr>\n",
              "    <tr>\n",
              "      <th>3999</th>\n",
              "      <td>tweet_4000</td>\n",
              "      <td>पर bhaib5g इंडिया में कब आयेगा । Dosto 2021 Me...</td>\n",
              "      <td>1</td>\n",
              "    </tr>\n",
              "  </tbody>\n",
              "</table>\n",
              "<p>1000 rows × 3 columns</p>\n",
              "</div>"
            ],
            "text/plain": [
              "        Tweet_ID  ... Mobile_Tech_Tag\n",
              "3000  tweet_3001  ...               1\n",
              "3001  tweet_3002  ...               1\n",
              "3002  tweet_3003  ...               1\n",
              "3003  tweet_3004  ...               1\n",
              "3004  tweet_3005  ...               1\n",
              "...          ...  ...             ...\n",
              "3995  tweet_3996  ...               1\n",
              "3996  tweet_3997  ...               1\n",
              "3997  tweet_3998  ...               1\n",
              "3998  tweet_3999  ...               1\n",
              "3999  tweet_4000  ...               1\n",
              "\n",
              "[1000 rows x 3 columns]"
            ]
          },
          "metadata": {
            "tags": []
          },
          "execution_count": 44
        }
      ]
    },
    {
      "cell_type": "code",
      "metadata": {
        "cellView": "form",
        "id": "D4xWVh0SfM3J"
      },
      "source": [
        "#@title Normalize corpus\n",
        "\n",
        "def normalize_corpus(corpus, html_stripping=True, contraction_expansion=True,\n",
        "                     accented_char_removal=True, text_lower_case=False, \n",
        "                     text_lemmatization=False, special_char_removal=False, \n",
        "                     stopword_removal=True, remove_digits=False):\n",
        "    \n",
        "    normalized_corpus = []\n",
        "    # normalize each document in the corpus\n",
        "    for doc in corpus:\n",
        "        # strip HTML\n",
        "        if html_stripping:\n",
        "            doc = strip_html_tags(doc)\n",
        "        # remove accented characters\n",
        "        if accented_char_removal:\n",
        "            doc = remove_accented_chars(doc)\n",
        "        # expand contractions    \n",
        "        if contraction_expansion:\n",
        "            doc = expand_contractions(doc)\n",
        "        # lowercase the text    \n",
        "        if text_lower_case:\n",
        "            doc = doc.lower()\n",
        "        # remove extra newlines\n",
        "        doc = re.sub(r'[\\r|\\n|\\r\\n]+', ' ',doc)\n",
        "        # lemmatize text\n",
        "        if text_lemmatization:\n",
        "            doc = lemmatize_text(doc)\n",
        "        # remove special characters and\\or digits    \n",
        "        if special_char_removal:\n",
        "            # insert spaces between special characters to isolate them    \n",
        "            special_char_pattern = re.compile(r'([{.(-)!}])')\n",
        "            doc = special_char_pattern.sub(\" \\\\1 \", doc)\n",
        "            doc = remove_special_characters(doc, remove_digits=remove_digits)  \n",
        "        # remove extra whitespace\n",
        "        doc = re.sub(' +', ' ', doc)\n",
        "        # remove stopwords\n",
        "        if stopword_removal:\n",
        "            doc = remove_stopwords(doc, is_lower_case=text_lower_case)\n",
        "            \n",
        "        normalized_corpus.append(doc)\n",
        "        \n",
        "    return normalized_corpus"
      ],
      "execution_count": null,
      "outputs": []
    },
    {
      "cell_type": "code",
      "metadata": {
        "id": "3CrHndu-M_QS"
      },
      "source": [
        "#!pip install textblob\r\n",
        "from textblob import TextBlob"
      ],
      "execution_count": null,
      "outputs": []
    },
    {
      "cell_type": "code",
      "metadata": {
        "id": "GJYd1nb6uCWK"
      },
      "source": [
        "def convert_Hinglish_to_Hindi(text):\r\n",
        "  sent=''\r\n",
        "  for word in text.split():\r\n",
        "    b = TextBlob(word)\r\n",
        "    try:\r\n",
        "      lang=b.detect_language()\r\n",
        "      if(lang=='en'):\r\n",
        "        sent+=' '+transliterate(word, sanscript.ITRANS, sanscript.DEVANAGARI)\r\n",
        "      else:\r\n",
        "        sent+=' '+word\r\n",
        "    except:\r\n",
        "      #print(word)\r\n",
        "      sent+=' '+word\r\n",
        "      continue  \r\n",
        "    \r\n",
        "  return(sent.strip())      "
      ],
      "execution_count": null,
      "outputs": []
    },
    {
      "cell_type": "code",
      "metadata": {
        "id": "pqXjg8Newshn"
      },
      "source": [
        "#data_tweet['Tweet'][3500]"
      ],
      "execution_count": null,
      "outputs": []
    },
    {
      "cell_type": "code",
      "metadata": {
        "id": "Pi1fR8p30cKh"
      },
      "source": [
        "def identify_hinglish(text):\r\n",
        "  count=0\r\n",
        "  for word in text.split():\r\n",
        "    b=TextBlob(word)\r\n",
        "    try:\r\n",
        "      lang=b.detect_language()\r\n",
        "      if(lang=='hi'):\r\n",
        "        return(1)\r\n",
        "      else:\r\n",
        "        count+=1\r\n",
        "        if(count>=5):\r\n",
        "          return(0)  \r\n",
        "    except:\r\n",
        "      continue\r\n",
        "  return(0)      "
      ],
      "execution_count": null,
      "outputs": []
    },
    {
      "cell_type": "code",
      "metadata": {
        "id": "hSybkl8QxSMU"
      },
      "source": [
        "data_tweet['Hinglish_tag']=data_tweet['Tweet'].apply(lambda x: identify_hinglish(x))"
      ],
      "execution_count": null,
      "outputs": []
    },
    {
      "cell_type": "code",
      "metadata": {
        "id": "D0Go0aMXvYnk"
      },
      "source": [
        ""
      ],
      "execution_count": null,
      "outputs": []
    },
    {
      "cell_type": "code",
      "metadata": {
        "id": "AIVMIi8l0y4Z"
      },
      "source": [
        "def convert_all_sent_to_english(text,is_hinglish=1):\r\n",
        "  if(is_hinglish):\r\n",
        "    sent=(convert_Hinglish_to_Hindi(text))\r\n",
        "    hi_blob = TextBlob(sent)\r\n",
        "    return(hi_blob.translate(to='en'))\r\n",
        "  else:\r\n",
        "    return(text)  "
      ],
      "execution_count": null,
      "outputs": []
    },
    {
      "cell_type": "code",
      "metadata": {
        "id": "G7Gwfy51DE82"
      },
      "source": [
        ""
      ],
      "execution_count": null,
      "outputs": []
    },
    {
      "cell_type": "code",
      "metadata": {
        "id": "l34sT_LwEPdf"
      },
      "source": [
        "#!pip install aspect-based-sentiment-analysis\r\n",
        "import aspect_based_sentiment_analysis as absa"
      ],
      "execution_count": null,
      "outputs": []
    },
    {
      "cell_type": "code",
      "metadata": {
        "id": "f0kbQPslE5sR"
      },
      "source": [
        "nlp = absa.load()\r\n",
        "text = data_tweet['Tweet'][0]\r\n",
        "slack,price = nlp(text, aspects=['Apple','Samsung'])"
      ],
      "execution_count": null,
      "outputs": []
    },
    {
      "cell_type": "code",
      "metadata": {
        "colab": {
          "base_uri": "https://localhost:8080/"
        },
        "id": "OYLx3EDZFCAQ",
        "outputId": "abc4819b-65e3-4258-ec6c-3c7cab3cdf6a"
      },
      "source": [
        "slack.sentiment,price.sentiment,"
      ],
      "execution_count": null,
      "outputs": [
        {
          "output_type": "execute_result",
          "data": {
            "text/plain": [
              "(<Sentiment.negative: 1>, <Sentiment.positive: 2>)"
            ]
          },
          "metadata": {
            "tags": []
          },
          "execution_count": 60
        }
      ]
    },
    {
      "cell_type": "code",
      "metadata": {
        "id": "Timdfa8Y6J4P"
      },
      "source": [
        "lis=[]\r\n",
        "for i in range(3832,len(data_tweet)):\r\n",
        "  #if(identify_hinglish(data_tweet['Tweet'][i])):\r\n",
        "  lis.append(convert_all_sent_to_english(data_tweet['Tweet'][i]))\r\n",
        "  \r\n",
        "  print(i)"
      ],
      "execution_count": null,
      "outputs": []
    },
    {
      "cell_type": "code",
      "metadata": {
        "id": "zt9CkSji6mTv"
      },
      "source": [
        ""
      ],
      "execution_count": null,
      "outputs": []
    },
    {
      "cell_type": "code",
      "metadata": {
        "id": "nioo2ACz5073"
      },
      "source": [
        ""
      ],
      "execution_count": null,
      "outputs": []
    },
    {
      "cell_type": "code",
      "metadata": {
        "id": "r3UeerL71a3y"
      },
      "source": [
        "data_tweet['Tweet']=data_tweet['Tweet'].apply(lambda x: convert_all_sent_to_english(x))"
      ],
      "execution_count": null,
      "outputs": []
    },
    {
      "cell_type": "code",
      "metadata": {
        "id": "33w6hVZjeKIt"
      },
      "source": [
        ""
      ],
      "execution_count": null,
      "outputs": []
    },
    {
      "cell_type": "code",
      "metadata": {
        "id": "qEnSv_TUyv3t"
      },
      "source": [
        "data_tweet.to_csv('Final_cleaned.csv')"
      ],
      "execution_count": null,
      "outputs": []
    },
    {
      "cell_type": "code",
      "metadata": {
        "colab": {
          "base_uri": "https://localhost:8080/",
          "height": 120
        },
        "id": "_s-qvVNvvw84",
        "outputId": "970df333-ea52-4a72-ec76-9d001e02c820"
      },
      "source": [
        "convert_Hinglish_to_Hindi(data_tweet['Tweet'][3990])"
      ],
      "execution_count": null,
      "outputs": [
        {
          "output_type": "stream",
          "text": [
            "RT\n",
            "ने\n",
            "5G\n",
            "कर\n",
            "है\n"
          ],
          "name": "stdout"
        },
        {
          "output_type": "execute_result",
          "data": {
            "application/vnd.google.colaboratory.intrinsic+json": {
              "type": "string"
            },
            "text/plain": [
              "'RT ZeeNews चीनी मोबाइल कंपनी रियलमी ने अपना Realme V15 5G स्मार्टफोन लॉन्च कर दिया है स्मर्त्फोने'"
            ]
          },
          "metadata": {
            "tags": []
          },
          "execution_count": 97
        }
      ]
    },
    {
      "cell_type": "code",
      "metadata": {
        "id": "UbbKH3g9kfgI"
      },
      "source": [
        "#!pip install indic-transliteration"
      ],
      "execution_count": null,
      "outputs": []
    },
    {
      "cell_type": "code",
      "metadata": {
        "colab": {
          "base_uri": "https://localhost:8080/"
        },
        "id": "HYupDeSukfmC",
        "outputId": "c9495f52-80d6-4260-cad5-e157eea30cd5"
      },
      "source": [
        "# import the module \r\n",
        "from indic_transliteration import sanscript \r\n",
        "from indic_transliteration.sanscript import transliterate \r\n",
        "  \r\n",
        "# the text to be transliterated \r\n",
        "text = \"Apa sabhii kaa yahaan svaagat hai.\"\r\n",
        "  \r\n",
        "# printing the transliterated text \r\n",
        "print(transliterate(text, sanscript.ITRANS, sanscript.DEVANAGARI)) "
      ],
      "execution_count": null,
      "outputs": [
        {
          "output_type": "stream",
          "text": [
            "आप सभी का यहान् स्वागत् है।\n"
          ],
          "name": "stdout"
        }
      ]
    },
    {
      "cell_type": "code",
      "metadata": {
        "id": "aOE8Ps1Ikfpw"
      },
      "source": [
        ""
      ],
      "execution_count": null,
      "outputs": []
    },
    {
      "cell_type": "code",
      "metadata": {
        "id": "SIKZP5kLkfr7"
      },
      "source": [
        ""
      ],
      "execution_count": null,
      "outputs": []
    },
    {
      "cell_type": "code",
      "metadata": {
        "id": "tyAZcljyIQ1s"
      },
      "source": [
        "#data_tweet['English_Part_of_Tweet']=data_tweet['Tweet'].str.replace('[^A-Za-z0-9]+',\" \")\r\n",
        "#data_tweet['Numeric_Part_of_Tweet']=data_tweet['Tweet'].str.replace('[^0-9]+',\" \")"
      ],
      "execution_count": null,
      "outputs": []
    },
    {
      "cell_type": "code",
      "metadata": {
        "id": "NZTSIgd2JFce"
      },
      "source": [
        ""
      ],
      "execution_count": null,
      "outputs": []
    },
    {
      "cell_type": "code",
      "metadata": {
        "id": "DXsv-6nEJKKa"
      },
      "source": [
        ""
      ],
      "execution_count": null,
      "outputs": []
    },
    {
      "cell_type": "code",
      "metadata": {
        "id": "Kp_ZW7nEI4Vl"
      },
      "source": [
        ""
      ],
      "execution_count": null,
      "outputs": []
    },
    {
      "cell_type": "code",
      "metadata": {
        "id": "Oi3uOoO-HO-Z"
      },
      "source": [
        ""
      ],
      "execution_count": null,
      "outputs": []
    },
    {
      "cell_type": "code",
      "metadata": {
        "id": "AYs7iy9eGjSP"
      },
      "source": [
        ""
      ],
      "execution_count": null,
      "outputs": []
    },
    {
      "cell_type": "code",
      "metadata": {
        "id": "VnOYrGxgG2ny"
      },
      "source": [
        ""
      ],
      "execution_count": null,
      "outputs": []
    }
  ]
}