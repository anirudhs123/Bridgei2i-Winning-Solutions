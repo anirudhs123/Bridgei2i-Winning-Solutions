{
  "nbformat": 4,
  "nbformat_minor": 0,
  "metadata": {
    "accelerator": "GPU",
    "colab": {
      "name": "Inter IIT.ipynb",
      "provenance": [],
      "collapsed_sections": []
    },
    "kernelspec": {
      "display_name": "Python 3",
      "name": "python3"
    },
    "widgets": {
      "application/vnd.jupyter.widget-state+json": {
        "74566eec8f34456f939512eac16b6dcc": {
          "model_module": "@jupyter-widgets/controls",
          "model_name": "HBoxModel",
          "state": {
            "_view_name": "HBoxView",
            "_dom_classes": [],
            "_model_name": "HBoxModel",
            "_view_module": "@jupyter-widgets/controls",
            "_model_module_version": "1.5.0",
            "_view_count": null,
            "_view_module_version": "1.5.0",
            "box_style": "",
            "layout": "IPY_MODEL_df7dd9597663428f93c982b49cba57a6",
            "_model_module": "@jupyter-widgets/controls",
            "children": [
              "IPY_MODEL_f593e357635d4b81973ef3710d83ba1d",
              "IPY_MODEL_7f3ecc2da7a04a6f95fbd7904f78138e"
            ]
          }
        },
        "df7dd9597663428f93c982b49cba57a6": {
          "model_module": "@jupyter-widgets/base",
          "model_name": "LayoutModel",
          "state": {
            "_view_name": "LayoutView",
            "grid_template_rows": null,
            "right": null,
            "justify_content": null,
            "_view_module": "@jupyter-widgets/base",
            "overflow": null,
            "_model_module_version": "1.2.0",
            "_view_count": null,
            "flex_flow": null,
            "width": null,
            "min_width": null,
            "border": null,
            "align_items": null,
            "bottom": null,
            "_model_module": "@jupyter-widgets/base",
            "top": null,
            "grid_column": null,
            "overflow_y": null,
            "overflow_x": null,
            "grid_auto_flow": null,
            "grid_area": null,
            "grid_template_columns": null,
            "flex": null,
            "_model_name": "LayoutModel",
            "justify_items": null,
            "grid_row": null,
            "max_height": null,
            "align_content": null,
            "visibility": null,
            "align_self": null,
            "height": null,
            "min_height": null,
            "padding": null,
            "grid_auto_rows": null,
            "grid_gap": null,
            "max_width": null,
            "order": null,
            "_view_module_version": "1.2.0",
            "grid_template_areas": null,
            "object_position": null,
            "object_fit": null,
            "grid_auto_columns": null,
            "margin": null,
            "display": null,
            "left": null
          }
        },
        "f593e357635d4b81973ef3710d83ba1d": {
          "model_module": "@jupyter-widgets/controls",
          "model_name": "FloatProgressModel",
          "state": {
            "_view_name": "ProgressView",
            "style": "IPY_MODEL_17a4579699b94b47b00abf28afde2f7d",
            "_dom_classes": [],
            "description": "100%",
            "_model_name": "FloatProgressModel",
            "bar_style": "success",
            "max": 4000,
            "_view_module": "@jupyter-widgets/controls",
            "_model_module_version": "1.5.0",
            "value": 4000,
            "_view_count": null,
            "_view_module_version": "1.5.0",
            "orientation": "horizontal",
            "min": 0,
            "description_tooltip": null,
            "_model_module": "@jupyter-widgets/controls",
            "layout": "IPY_MODEL_6cf2a1e4d9f14205841e09c9cf0f3cb1"
          }
        },
        "7f3ecc2da7a04a6f95fbd7904f78138e": {
          "model_module": "@jupyter-widgets/controls",
          "model_name": "HTMLModel",
          "state": {
            "_view_name": "HTMLView",
            "style": "IPY_MODEL_a1d978d3cef946fca604f1e8892ae9f7",
            "_dom_classes": [],
            "description": "",
            "_model_name": "HTMLModel",
            "placeholder": "​",
            "_view_module": "@jupyter-widgets/controls",
            "_model_module_version": "1.5.0",
            "value": " 4000/4000 [01:50&lt;00:00, 36.21epoch/s]",
            "_view_count": null,
            "_view_module_version": "1.5.0",
            "description_tooltip": null,
            "_model_module": "@jupyter-widgets/controls",
            "layout": "IPY_MODEL_046ec97836244fbd88d7745c95570017"
          }
        },
        "17a4579699b94b47b00abf28afde2f7d": {
          "model_module": "@jupyter-widgets/controls",
          "model_name": "ProgressStyleModel",
          "state": {
            "_view_name": "StyleView",
            "_model_name": "ProgressStyleModel",
            "description_width": "initial",
            "_view_module": "@jupyter-widgets/base",
            "_model_module_version": "1.5.0",
            "_view_count": null,
            "_view_module_version": "1.2.0",
            "bar_color": null,
            "_model_module": "@jupyter-widgets/controls"
          }
        },
        "6cf2a1e4d9f14205841e09c9cf0f3cb1": {
          "model_module": "@jupyter-widgets/base",
          "model_name": "LayoutModel",
          "state": {
            "_view_name": "LayoutView",
            "grid_template_rows": null,
            "right": null,
            "justify_content": null,
            "_view_module": "@jupyter-widgets/base",
            "overflow": null,
            "_model_module_version": "1.2.0",
            "_view_count": null,
            "flex_flow": null,
            "width": null,
            "min_width": null,
            "border": null,
            "align_items": null,
            "bottom": null,
            "_model_module": "@jupyter-widgets/base",
            "top": null,
            "grid_column": null,
            "overflow_y": null,
            "overflow_x": null,
            "grid_auto_flow": null,
            "grid_area": null,
            "grid_template_columns": null,
            "flex": null,
            "_model_name": "LayoutModel",
            "justify_items": null,
            "grid_row": null,
            "max_height": null,
            "align_content": null,
            "visibility": null,
            "align_self": null,
            "height": null,
            "min_height": null,
            "padding": null,
            "grid_auto_rows": null,
            "grid_gap": null,
            "max_width": null,
            "order": null,
            "_view_module_version": "1.2.0",
            "grid_template_areas": null,
            "object_position": null,
            "object_fit": null,
            "grid_auto_columns": null,
            "margin": null,
            "display": null,
            "left": null
          }
        },
        "a1d978d3cef946fca604f1e8892ae9f7": {
          "model_module": "@jupyter-widgets/controls",
          "model_name": "DescriptionStyleModel",
          "state": {
            "_view_name": "StyleView",
            "_model_name": "DescriptionStyleModel",
            "description_width": "",
            "_view_module": "@jupyter-widgets/base",
            "_model_module_version": "1.5.0",
            "_view_count": null,
            "_view_module_version": "1.2.0",
            "_model_module": "@jupyter-widgets/controls"
          }
        },
        "046ec97836244fbd88d7745c95570017": {
          "model_module": "@jupyter-widgets/base",
          "model_name": "LayoutModel",
          "state": {
            "_view_name": "LayoutView",
            "grid_template_rows": null,
            "right": null,
            "justify_content": null,
            "_view_module": "@jupyter-widgets/base",
            "overflow": null,
            "_model_module_version": "1.2.0",
            "_view_count": null,
            "flex_flow": null,
            "width": null,
            "min_width": null,
            "border": null,
            "align_items": null,
            "bottom": null,
            "_model_module": "@jupyter-widgets/base",
            "top": null,
            "grid_column": null,
            "overflow_y": null,
            "overflow_x": null,
            "grid_auto_flow": null,
            "grid_area": null,
            "grid_template_columns": null,
            "flex": null,
            "_model_name": "LayoutModel",
            "justify_items": null,
            "grid_row": null,
            "max_height": null,
            "align_content": null,
            "visibility": null,
            "align_self": null,
            "height": null,
            "min_height": null,
            "padding": null,
            "grid_auto_rows": null,
            "grid_gap": null,
            "max_width": null,
            "order": null,
            "_view_module_version": "1.2.0",
            "grid_template_areas": null,
            "object_position": null,
            "object_fit": null,
            "grid_auto_columns": null,
            "margin": null,
            "display": null,
            "left": null
          }
        }
      }
    }
  },
  "cells": [
    {
      "cell_type": "code",
      "metadata": {
        "id": "GfVZW6_mhvLF"
      },
      "source": [
        "import pandas as pd\n",
        "import numpy as np\n",
        "from keras.preprocessing.sequence import pad_sequences\n",
        "import torch.optim as optim\n",
        "import os\n",
        "import datetime\n",
        "import yaml\n",
        "import torch.nn as nn\n",
        "import torch.optim as optim\n",
        "import torch.nn.functional as F\n",
        "import torch\n",
        "from torch.utils.data import DataLoader, Dataset\n",
        "import json\n",
        "from torch.nn.utils.rnn import pad_sequence\n",
        "import pandas as pd\n",
        "from tqdm import tqdm_notebook\n",
        "import numpy as np\n",
        "import re\n",
        "import copy"
      ],
      "execution_count": 363,
      "outputs": []
    },
    {
      "cell_type": "code",
      "metadata": {
        "colab": {
          "base_uri": "https://localhost:8080/"
        },
        "id": "rgvnxrA7T9wc",
        "outputId": "3a2b576b-d118-4611-e941-b4749fbcebdc"
      },
      "source": [
        "converter={}\n",
        "converter[\"AA\"]=\"ɑ\"\n",
        "converter[\"AE\"]=\"æ\"\n",
        "converter[\"AH\"]=\"ʌ\"\n",
        "converter[\"AO\"]=\"ɔ\"\n",
        "converter[\"AW\"]=\"aʊ\"\n",
        "# converter[\"AX\"]=\"ə\"\n",
        "# converter[\"AXR\"]=\"ɚ\"\n",
        "converter[\"AY\"]=\"aɪ\"\n",
        "converter[\"EH\"]=\"ɛ\"\n",
        "converter[\"ER\"]=\"ɝ\"\n",
        "converter[\"EY\"]=\"eɪ\"\n",
        "converter[\"IH\"]=\"ɪ\"\n",
        "# converter[\"IX\"]=\"ɨ\"\n",
        "converter[\"IY\"]=\"i\"\n",
        "converter[\"OW\"]=\"oʊ\"\n",
        "converter[\"OY\"]=\"ɔɪ\"\n",
        "converter[\"UH\"]=\"ʊ\"\n",
        "converter[\"UW\"]=\"u\"\n",
        "# converter[\"UX\"]=\"ʉ\"\n",
        "converter[\"B\"]=\"b\"\n",
        "converter[\"CH\"]=\"tʃ\"\n",
        "converter[\"D\"]=\"d\"\n",
        "converter[\"DH\"]=\"ð\"\n",
        "# converter[\"DX\"]=\"ɾ\"\n",
        "# converter[\"EL\"]=\"l̩\"\n",
        "# converter[\"EM\"]=\"m̩\"\n",
        "# converter[\"EN\"]=\"n̩\"\n",
        "converter[\"F\"]=\"f\"\n",
        "converter[\"G\"]=\"ɡ\"\n",
        "# converter[\"H\"]=\"h\"\n",
        "converter[\"HH\"]=\"h\"\n",
        "converter[\"JH\"]=\"dʒ\"\n",
        "converter[\"K\"]=\"k\"\n",
        "converter[\"L\"]=\"l\"\n",
        "converter[\"M\"]=\"m\"\n",
        "converter[\"N\"]=\"n\"\n",
        "# converter[\"NX\"]=\"ɾ̃\"\n",
        "converter[\"NG\"]=\"ŋ\"\n",
        "converter[\"P\"]=\"p\"\n",
        "# converter[\"Q\"]=\"ʔ\"\n",
        "converter[\"R\"]=\"ɹ\"\n",
        "converter[\"S\"]=\"s\"\n",
        "converter[\"SH\"]=\"ʃ\"\n",
        "converter[\"T\"]=\"t\"\n",
        "converter[\"TH\"]=\"θ\"\n",
        "converter[\"V\"]=\"v\"\n",
        "converter[\"W\"]=\"w\"\n",
        "# converter[\"WH\"]=\"ʍ\"\n",
        "converter[\"Y\"]=\"j\"\n",
        "converter[\"Z\"]=\"z\"\n",
        "converter[\"ZH\"]=\"ʒ\"\n",
        "converter[' ']=\"SIL\"\n",
        "\n",
        "mapping={}\n",
        "mapping[\"अ\"]=\"ə\"\n",
        "mapping[\"आ\"]=\"a:\"\n",
        "mapping[\"इ\"]=\"ɪ\"\n",
        "mapping[\"ई\"]=\"i:\"\n",
        "mapping[\"उ\"]=\"ʊ\"\n",
        "mapping[\"ऊ\"]=\"u:\"\n",
        "mapping[\"ऋ\"]=\"ɻ̩\"\n",
        "mapping[\"ए\"]=\"e:\"\n",
        "mapping[\"ऐ\"]=\"ɛ:\"\n",
        "mapping[\"ओ\"]=\"o:\"\n",
        "mapping[\"औ\"]=\"ɔ:\"\n",
        "#mapping[\"अँ\"]=\"/ə̃/\"\n",
        "#mapping[\"अः\"]=\"/əɦə/\"\n",
        "mapping[\"अं\"]=\"əm\"\n",
        "#mapping[\"ऑ\"]=\"/ɒ/\"\n",
        "\n",
        "\n",
        "mapping[\"ा\"]=\"a:\"\n",
        "mapping[\"ि\"]=\"ɪ\"\n",
        "mapping[\"ी\"]=\"i:\"\n",
        "mapping[\"ु\"]=\"ʊ\"\n",
        "mapping[\"ू\"]=\"u:\"\n",
        "mapping[\"ृ\"]=\"ɻ̩\"\n",
        "mapping[\"े\"]=\"e:\"\n",
        "mapping[\"ै\"]=\"ɛ:\"\n",
        "mapping[\"ो\"]=\"o:\"\n",
        "mapping[\"ौ\"]=\"ɔ:\"\n",
        "#mapping[\"ँ\"]=\"/ə̃/\"\n",
        "#mapping[\"ː\"]=\"/əɦə/\"\n",
        "mapping['ं']=\"əm\"\n",
        "mapping[\"ॆ\"]=\"e:\"\n",
        "\n",
        "mapping[\"क\"+\"्\"]=\"k\"\n",
        "mapping[\"ख\"+\"्\"]=\"kʰ\"\n",
        "mapping[\"ग\"+\"्\"]=\"g\"\n",
        "mapping[\"घ\"+\"्\"]=\"gʰ\"\n",
        "mapping[\"ङ\"+\"्\"]=\"ŋ\"\n",
        "mapping[\"च\"+\"्\"]=\"tʃ\"\n",
        "mapping[\"छ\"+\"्\"]=\"tʃʰ\"\n",
        "mapping[\"ज\"+\"्\"]=\"dʒ\"\n",
        "mapping[\"झ\"+\"्\"]=\"dʒʰ\"\n",
        "mapping[\"ञ\"+\"्\"]=\"ɲ\"\n",
        "mapping[\"ट\"+\"्\"]=\"ʈ\"\n",
        "mapping[\"ठ\"+\"्\"]=\"ʈʰ\"\n",
        "mapping[\"ड\"+\"्\"]=\"ɖ\"\n",
        "mapping[\"ढ\"+\"्\"]=\"ɖʰ\"\n",
        "mapping[\"ण\"+\"्\"]=\"ɳ\"\n",
        "mapping[\"त\"+\"्\"]=\"t̪\"\n",
        "mapping[\"थ\"+\"्\"]=\"t̪ʰ\"\n",
        "mapping[\"द\"+\"्\"]=\"d̪\"\n",
        "mapping[\"ध\"+\"्\"]=\"d̪ʰ\"\n",
        "mapping[\"न\"+\"्\"]=\"n\"\n",
        "mapping[\"प\"+\"्\"]=\"p\"\n",
        "mapping[\"फ\"+\"्\"]=\"pʰ\"\n",
        "mapping[\"ब\"+\"्\"]=\"b\"\n",
        "mapping[\"भ\"+\"्\"]=\"bʰ\"\n",
        "mapping[\"म\"+\"्\"]=\"m\"\n",
        "mapping[\"य\"+\"्\"]=\"j\"\n",
        "mapping[\"र\"+\"्\"]=\"ɾ\"\n",
        "mapping[\"ल\"+\"्\"]=\"l\"\n",
        "mapping[\"व\"+\"्\"]=\"ʋ\"\n",
        "mapping[\"स\"+\"्\"]=\"s\"\n",
        "mapping[\"श\"+\"्\"]=\"ʃ\"\n",
        "mapping[\"ष\"+\"्\"]=\"ʂ\"\n",
        "mapping[\"ह\"+\"्\"]=\"ɦ\"\n",
        "mapping[\"ळ\"+\"्\"]=\"ɭ̆ɭ̆\"\n",
        "mapping[\" \"]=\"SIL\"\n",
        "\n",
        "def Merge(dict1, dict2):\n",
        "    return(dict2.update(dict1))\n",
        "\n",
        "Merge(mapping, converter)\n",
        " \n",
        "# changes made in dict2\n",
        "print(len(converter))"
      ],
      "execution_count": 364,
      "outputs": [
        {
          "output_type": "stream",
          "text": [
            "98\n"
          ],
          "name": "stdout"
        }
      ]
    },
    {
      "cell_type": "code",
      "metadata": {
        "colab": {
          "base_uri": "https://localhost:8080/"
        },
        "id": "lMDZYczKr9Md",
        "outputId": "63e21ecf-55ec-4259-aa28-5eb24bd3d71a"
      },
      "source": [
        "!pip install g2p-en"
      ],
      "execution_count": 365,
      "outputs": [
        {
          "output_type": "stream",
          "text": [
            "Requirement already satisfied: g2p-en in /usr/local/lib/python3.7/dist-packages (2.1.0)\n",
            "Requirement already satisfied: distance>=0.1.3 in /usr/local/lib/python3.7/dist-packages (from g2p-en) (0.1.3)\n",
            "Requirement already satisfied: nltk>=3.2.4 in /usr/local/lib/python3.7/dist-packages (from g2p-en) (3.2.5)\n",
            "Requirement already satisfied: numpy>=1.13.1 in /usr/local/lib/python3.7/dist-packages (from g2p-en) (1.19.5)\n",
            "Requirement already satisfied: inflect>=0.3.1 in /usr/local/lib/python3.7/dist-packages (from g2p-en) (2.1.0)\n",
            "Requirement already satisfied: six in /usr/local/lib/python3.7/dist-packages (from nltk>=3.2.4->g2p-en) (1.15.0)\n"
          ],
          "name": "stdout"
        }
      ]
    },
    {
      "cell_type": "code",
      "metadata": {
        "id": "B39ulYQqIJA5",
        "colab": {
          "base_uri": "https://localhost:8080/"
        },
        "outputId": "1c41a9be-a12d-4427-e121-8e60ff64906a"
      },
      "source": [
        "from g2p_en import G2p\n",
        "\n",
        "texts = [\"I have $250 in my pocket\", # number -> spell-out\n",
        "         \"popular pets, e.g. cats and dogs\", # e.g. -> for example\n",
        "         \"I refuse to collect the refuse around here\", # homograph\n",
        "         \"I'm an activationist\",\n",
        "         \"Merecedes\",\n",
        "         \"REDMI\",\n",
        "         \"letter\",\n",
        "         \"xiaomi\",\n",
        "         \"bite\",\n",
        "         \"flower⏱️\",\n",
        "         \"hundred⏱️\",\n",
        "         \"nahi huya hai\",\n",
        "         \"karyavahi⏱️\",\n",
        "         \"die\",\n",
        "         \"block…\"] # newly coined word\n",
        "g2p = G2p()\n",
        "for text in texts:\n",
        "    s=[]\n",
        "    out = g2p(text)\n",
        "    print(out)\n",
        "    for x in range(len(out)):\n",
        "      # print(x)\n",
        "      out[x]=re.sub(r\"[0-9]\",\"\",out[x])\n",
        "      # print(x)\n",
        "      out[x]=re.sub(r\"\\.\",\"\",out[x])\n",
        "      out[x]=re.sub(r\"\\,\",\"\",out[x])\n",
        "      # x=re.sub(r\"[\\!]\",\"\",x)\n",
        "      # x=re.sub(r\"\\?\",\"\",x)\n",
        "      # print(x)\n",
        "      if out[x]!=\"\":\n",
        "        s.append(converter[out[x]])\n",
        "      # print(out[x])\n",
        "    print(s)"
      ],
      "execution_count": 4,
      "outputs": [
        {
          "output_type": "stream",
          "text": [
            "[nltk_data] Downloading package averaged_perceptron_tagger to\n",
            "[nltk_data]     /root/nltk_data...\n",
            "[nltk_data]   Unzipping taggers/averaged_perceptron_tagger.zip.\n",
            "[nltk_data] Downloading package cmudict to /root/nltk_data...\n",
            "[nltk_data]   Unzipping corpora/cmudict.zip.\n",
            "['AY1', ' ', 'HH', 'AE1', 'V', ' ', 'T', 'UW1', ' ', 'HH', 'AH1', 'N', 'D', 'R', 'AH0', 'D', ' ', 'F', 'IH1', 'F', 'T', 'IY0', ' ', 'D', 'AA1', 'L', 'ER0', 'Z', ' ', 'IH0', 'N', ' ', 'M', 'AY1', ' ', 'P', 'AA1', 'K', 'AH0', 'T']\n",
            "['aɪ', 'SIL', 'h', 'æ', 'v', 'SIL', 't', 'u', 'SIL', 'h', 'ʌ', 'n', 'd', 'ɹ', 'ʌ', 'd', 'SIL', 'f', 'ɪ', 'f', 't', 'i', 'SIL', 'd', 'ɑ', 'l', 'ɝ', 'z', 'SIL', 'ɪ', 'n', 'SIL', 'm', 'aɪ', 'SIL', 'p', 'ɑ', 'k', 'ʌ', 't']\n",
            "['P', 'AA1', 'P', 'Y', 'AH0', 'L', 'ER0', ' ', 'P', 'EH1', 'T', 'S', ' ', ',', ' ', 'F', 'AO1', 'R', ' ', 'IH0', 'G', 'Z', 'AE1', 'M', 'P', 'AH0', 'L', ' ', 'K', 'AE1', 'T', 'S', ' ', 'AH0', 'N', 'D', ' ', 'D', 'AA1', 'G', 'Z']\n",
            "['p', 'ɑ', 'p', 'j', 'ʌ', 'l', 'ɝ', 'SIL', 'p', 'ɛ', 't', 's', 'SIL', 'SIL', 'f', 'ɔ', 'ɹ', 'SIL', 'ɪ', 'ɡ', 'z', 'æ', 'm', 'p', 'ʌ', 'l', 'SIL', 'k', 'æ', 't', 's', 'SIL', 'ʌ', 'n', 'd', 'SIL', 'd', 'ɑ', 'ɡ', 'z']\n",
            "['AY1', ' ', 'R', 'IH0', 'F', 'Y', 'UW1', 'Z', ' ', 'T', 'UW1', ' ', 'K', 'AH0', 'L', 'EH1', 'K', 'T', ' ', 'DH', 'AH0', ' ', 'R', 'EH1', 'F', 'Y', 'UW2', 'Z', ' ', 'ER0', 'AW1', 'N', 'D', ' ', 'HH', 'IY1', 'R']\n",
            "['aɪ', 'SIL', 'ɹ', 'ɪ', 'f', 'j', 'u', 'z', 'SIL', 't', 'u', 'SIL', 'k', 'ʌ', 'l', 'ɛ', 'k', 't', 'SIL', 'ð', 'ʌ', 'SIL', 'ɹ', 'ɛ', 'f', 'j', 'u', 'z', 'SIL', 'ɝ', 'aʊ', 'n', 'd', 'SIL', 'h', 'i', 'ɹ']\n",
            "['AY1', 'M', ' ', 'AE1', 'N', ' ', 'AE2', 'K', 'T', 'IH0', 'V', 'EY1', 'SH', 'AH0', 'N', 'IH0', 'S', 'T']\n",
            "['aɪ', 'm', 'SIL', 'æ', 'n', 'SIL', 'æ', 'k', 't', 'ɪ', 'v', 'eɪ', 'ʃ', 'ʌ', 'n', 'ɪ', 's', 't']\n",
            "['M', 'ER0', 'EH1', 'S', 'IY0', 'D']\n",
            "['m', 'ɝ', 'ɛ', 's', 'i', 'd']\n",
            "['R', 'EH1', 'D', 'M', 'IY0']\n",
            "['ɹ', 'ɛ', 'd', 'm', 'i']\n",
            "['L', 'EH1', 'T', 'ER0']\n",
            "['l', 'ɛ', 't', 'ɝ']\n",
            "['Z', 'AY0', 'K', 'OW1', 'M', 'IY0']\n",
            "['z', 'aɪ', 'k', 'oʊ', 'm', 'i']\n",
            "['B', 'AY1', 'T']\n",
            "['b', 'aɪ', 't']\n",
            "['F', 'L', 'AW1', 'ER0']\n",
            "['f', 'l', 'aʊ', 'ɝ']\n",
            "['HH', 'AH1', 'N', 'D', 'R', 'AH0', 'D']\n",
            "['h', 'ʌ', 'n', 'd', 'ɹ', 'ʌ', 'd']\n",
            "['N', 'AA1', 'HH', 'IY0', ' ', 'HH', 'AY1', 'AH0', ' ', 'HH', 'AY1']\n",
            "['n', 'ɑ', 'h', 'i', 'SIL', 'h', 'aɪ', 'ʌ', 'SIL', 'h', 'aɪ']\n",
            "['K', 'EH2', 'R', 'AH0', 'V', 'EY1', 'HH', 'IY0']\n",
            "['k', 'ɛ', 'ɹ', 'ʌ', 'v', 'eɪ', 'h', 'i']\n",
            "['D', 'AY1']\n",
            "['d', 'aɪ']\n",
            "['B', 'L', 'AA1', 'K']\n",
            "['b', 'l', 'ɑ', 'k']\n"
          ],
          "name": "stdout"
        }
      ]
    },
    {
      "cell_type": "code",
      "metadata": {
        "id": "cmQJTgMAjRDn"
      },
      "source": [
        "import re\n",
        "\n",
        "def text_phonemes(text=\"पढ़ती हैं\"):\n",
        "  vowels=[\"ा\",\"ि\",\"ी\",\"ु\",\"ू\",\"ृ\",\"े\",\"ै\",\"ो\",\"ौ\",\"ँ\",'ं','ॆ',\"ː\",\"आ\",\"इ\",\"ई\",\"उ\",\"ऊ\",\"ऋ\",\"ए\",\"ऐ\",\"ओ\",\"औ\",\"अः\",\"अं\"]\n",
        "  full_consonants=[\"क\",\"ख\",\"ग\",\"घ\",\"ङ\",\"च\",\"छ\",\"ज\",\"झ\",\"ञ\",\"ट\",\"ठ\",\"ड\",\"ढ\",\"ण\",\"त\",\"थ\",\"द\",\"ध\",\"न\",\"प\",\"फ\",\"ब\",\"भ\",\"म\",\"य\",\"र\",\"ल\",\"ळ\",\"व\",\"श\",\"ष\",\"स\",\"ह\"]\n",
        "  special_vowels=[\"ः\",\"ं\",\"ँ\"]\n",
        "  mapping={}\n",
        "  mapping[\"अ\"]=\"ə\"\n",
        "  mapping[\"आ\"]=\"a:\"\n",
        "  mapping[\"इ\"]=\"ɪ\"\n",
        "  mapping[\"ई\"]=\"i:\"\n",
        "  mapping[\"उ\"]=\"ʊ\"\n",
        "  mapping[\"ऊ\"]=\"u:\"\n",
        "  mapping[\"ऋ\"]=\"ɻ̩\"\n",
        "  mapping[\"ए\"]=\"e:\"\n",
        "  mapping[\"ऐ\"]=\"ɛ:\"\n",
        "  mapping[\"ओ\"]=\"o:\"\n",
        "  mapping[\"औ\"]=\"ɔ:\"\n",
        "  #mapping[\"अँ\"]=\"/ə̃/\"\n",
        "  #mapping[\"अः\"]=\"/əɦə/\"\n",
        "  mapping[\"अं\"]=\"əm\"\n",
        "  #mapping[\"ऑ\"]=\"/ɒ/\"\n",
        "\n",
        "\n",
        "  mapping[\"ा\"]=\"a:\"\n",
        "  mapping[\"ि\"]=\"ɪ\"\n",
        "  mapping[\"ी\"]=\"i:\"\n",
        "  mapping[\"ु\"]=\"ʊ\"\n",
        "  mapping[\"ू\"]=\"u:\"\n",
        "  mapping[\"ृ\"]=\"ɻ̩\"\n",
        "  mapping[\"े\"]=\"e:\"\n",
        "  mapping[\"ै\"]=\"ɛ:\"\n",
        "  mapping[\"ो\"]=\"o:\"\n",
        "  mapping[\"ौ\"]=\"ɔ:\"\n",
        "  #mapping[\"ँ\"]=\"/ə̃/\"\n",
        "  #mapping[\"ː\"]=\"/əɦə/\"\n",
        "  mapping['ं']=\"əm\"\n",
        "  mapping[\"ॆ\"]=\"e:\"\n",
        "\n",
        "  mapping[\"क\"+\"्\"]=\"k\"\n",
        "  mapping[\"ख\"+\"्\"]=\"kʰ\"\n",
        "  mapping[\"ग\"+\"्\"]=\"g\"\n",
        "  mapping[\"घ\"+\"्\"]=\"gʰ\"\n",
        "  mapping[\"ङ\"+\"्\"]=\"ŋ\"\n",
        "  mapping[\"च\"+\"्\"]=\"tʃ\"\n",
        "  mapping[\"छ\"+\"्\"]=\"tʃʰ\"\n",
        "  mapping[\"ज\"+\"्\"]=\"dʒ\"\n",
        "  mapping[\"झ\"+\"्\"]=\"dʒʰ\"\n",
        "  mapping[\"ञ\"+\"्\"]=\"ɲ\"\n",
        "  mapping[\"ट\"+\"्\"]=\"ʈ\"\n",
        "  mapping[\"ठ\"+\"्\"]=\"ʈʰ\"\n",
        "  mapping[\"ड\"+\"्\"]=\"ɖ\"\n",
        "  mapping[\"ढ\"+\"्\"]=\"ɖʰ\"\n",
        "  mapping[\"ण\"+\"्\"]=\"ɳ\"\n",
        "  mapping[\"त\"+\"्\"]=\"t̪\"\n",
        "  mapping[\"थ\"+\"्\"]=\"t̪ʰ\"\n",
        "  mapping[\"द\"+\"्\"]=\"d̪\"\n",
        "  mapping[\"ध\"+\"्\"]=\"d̪ʰ\"\n",
        "  mapping[\"न\"+\"्\"]=\"n\"\n",
        "  mapping[\"प\"+\"्\"]=\"p\"\n",
        "  mapping[\"फ\"+\"्\"]=\"pʰ\"\n",
        "  mapping[\"ब\"+\"्\"]=\"b\"\n",
        "  mapping[\"भ\"+\"्\"]=\"bʰ\"\n",
        "  mapping[\"म\"+\"्\"]=\"m\"\n",
        "  mapping[\"य\"+\"्\"]=\"j\"\n",
        "  mapping[\"र\"+\"्\"]=\"ɾ\"\n",
        "  mapping[\"ल\"+\"्\"]=\"l\"\n",
        "  mapping[\"व\"+\"्\"]=\"ʋ\"\n",
        "  mapping[\"स\"+\"्\"]=\"s\"\n",
        "  mapping[\"श\"+\"्\"]=\"ʃ\"\n",
        "  mapping[\"ष\"+\"्\"]=\"ʂ\"\n",
        "  mapping[\"ह\"+\"्\"]=\"ɦ\"\n",
        "  mapping[\"ळ\"+\"्\"]=\"ɭ̆ɭ̆\"\n",
        "  mapping[\" \"]=\"SIL\"\n",
        "\n",
        "\n",
        "  #text=\"नमस्कार नमस्कार नमस्कार नमस्कार नमस्कार नमस्कार नमस्कार नमस्कार \"\n",
        "  line=text.split(\"\\n\")\n",
        "  for i in range(len(line)):\n",
        "    line[i]=line[i].strip()\n",
        "  # print(line)\n",
        "  b=[]\n",
        "\n",
        "  for k in range(len(line)):\n",
        "    x=str(b)+str(\"_\")+str(k)\n",
        "    x=[]\n",
        "    a=line[k]\n",
        "    a_1=re.split(\" \",a)\n",
        "    #print(a_1)\n",
        "    \n",
        "    for i in range(len(a_1)):\n",
        "      for j in range(len(a_1[i])):\n",
        "      \n",
        "        #print(a_1[i])\n",
        "        x.append(a_1[i][j])\n",
        "      x.append(\"  \")\n",
        "    b.append(x)\n",
        "\n",
        "  for i in range(len(b)):\n",
        "    for j in range(len(b[i])):\n",
        "      if b[i][j]==\"अ\" and b[i][j+1] in special_vowels:\n",
        "        b[i][j]=\"अ\"+b[i][j+1]\n",
        "        b[i][j+1]=\".\"\n",
        "    if \".\" in b[i]:\n",
        "      b[i].remove(\".\")\n",
        "\n",
        "  for i in range(len(b)):\n",
        "    for j in range(len(b[i])):\n",
        "      if b[i][j]==\"्\":\n",
        "        #print(b[i-1],i)\n",
        "        b[i][j-1]=b[i][j-1]+b[i][j]\n",
        "        b[i][j]=\"\"\n",
        "\n",
        "  for i in range(len(b)):\n",
        "    for j in range(3*len(b[i])):\n",
        "      if j < len(b[i]):\n",
        "        if b[i][j] in full_consonants and b[i][j+1] not in vowels:\n",
        "          b[i][j]=b[i][j]+\"्\"\n",
        "          b[i].insert(j+1,\"अ\")\n",
        "\n",
        "    if b[i][len(b[i])-2] in full_consonants:\n",
        "      b[i][len(b[i])-2]=b[i][len(b[i])-2]+\"्\"\n",
        "      b[i].insert(len(b[i])-1,\"अ\")\n",
        "\n",
        "  c=[]\n",
        "  indices=[]\n",
        "  for i in range(len(b)):\n",
        "    y=str(c)+str(\"_\")+str(i)\n",
        "    y=[]\n",
        "    for j in range(len(b[i])):\n",
        "      if b[i][j]!=\"\":\n",
        "        y.append(b[i][j])\n",
        "    c.append(y)\n",
        "\n",
        "\n",
        "  for k in range(len(c)):\n",
        "    for i in range(1,len(c[k])):\n",
        "      if c[k][i] in vowels and c[k][i-1] not in vowels:\n",
        "        c[k][i-1]=c[k][i-1]+\"्\"\n",
        "\n",
        "  phones=[]\n",
        "\n",
        "  for i in range(len(c)):\n",
        "    z=str(phones)+str(\"_\")+str(i)\n",
        "    z=[]\n",
        "    values=''\n",
        "    for char in c[i]:  \n",
        "      if char=='  ':\n",
        "        z.append(values)\n",
        "        values=''\n",
        "        \n",
        "      else:\n",
        "        for key,value in mapping.items():\n",
        "          if char == key:\n",
        "            values=values+value+\" \"\n",
        "      \n",
        "      \n",
        "    phones.append(z)\n",
        "\n",
        "  phones_final=[]\n",
        "  for i in range(len(phones)):\n",
        "    z=str(phones_final)+str(\"_\")+str(i)\n",
        "    z=[]\n",
        "    for j in range(len(phones[i])):\n",
        "      if len(phones[i][j])==0:\n",
        "        break\n",
        "      else:\n",
        "        z.append(phones[i][j])\n",
        "    \n",
        "    phones_final.append(z)\n",
        "  for j in range(len(phones_final)):\n",
        "    for i in range(1,5*len(phones_final[j]),2):\n",
        "      if i<len(phones_final[j]):\n",
        "        phones_final[j].insert(i,\"SIL\")\n",
        "  # print(phones_final)\n",
        "  # phonemes=[]\n",
        "  # for i in range(len(phones_final[0])):\n",
        "  #   for j in range(len(phones_final[0][i])):\n",
        "  #     phonemes.append(phones_final[0][i][j].split(\" \"))\n",
        "  phonemes=[]\n",
        "  temp_pho=[]\n",
        "  for j in range(len(phones_final)):\n",
        "    a=[]\n",
        "    for i in range(len(phones_final[j])):\n",
        "      a.append(phones_final[j][i])\n",
        "    temp_pho.append(a)\n",
        "  # print(temp_pho)\n",
        "  for j in range(len(temp_pho)):\n",
        "    x=[]\n",
        "    for i in range(len(temp_pho[j])):\n",
        "      temp_pho[j][i]=temp_pho[j][i].strip()\n",
        "      x.append(temp_pho[j][i].split(\" \"))\n",
        "    phonemes.append(x)\n",
        "  # print(phonemes)\n",
        "  phonemes_final=[]\n",
        "  for i in range(len(phonemes)):\n",
        "    y=[]\n",
        "    for j in range(len(phonemes[i])):\n",
        "      for k in range(len(phonemes[i][j])):\n",
        "        y.append(phonemes[i][j][k])\n",
        "    phonemes_final.append(y)\n",
        "\n",
        "\n",
        "  return phonemes_final"
      ],
      "execution_count": 5,
      "outputs": []
    },
    {
      "cell_type": "code",
      "metadata": {
        "colab": {
          "base_uri": "https://localhost:8080/"
        },
        "id": "Y7MD9_jkjt8t",
        "outputId": "a151a063-91ff-40f0-dd86-689aa8ade5c3"
      },
      "source": [
        "text_phonemes()"
      ],
      "execution_count": 6,
      "outputs": [
        {
          "output_type": "execute_result",
          "data": {
            "text/plain": [
              "[['p', 'ə', 'ɖʰ', 'ə', 't̪', 'i:', 'SIL', 'ɦ', 'ɛ:', 'əm']]"
            ]
          },
          "metadata": {
            "tags": []
          },
          "execution_count": 6
        }
      ]
    },
    {
      "cell_type": "code",
      "metadata": {
        "id": "ch_EgUwbimf4"
      },
      "source": [
        "class CNNModel(nn.Module):\n",
        "    def __init__(self, vocab_size, embedding, emb_dim, fmaps, strides, dropout_factor, num_classes):\n",
        "        super(CNNModel, self).__init__()\n",
        "        self.embedding = nn.Embedding(vocab_size, emb_dim).from_pretrained(embedding, freeze=False)\n",
        "        conv_layers = [nn.Conv2d(1, fmaps, (stride, emb_dim), padding=(stride-1, 0)) for stride in strides]\n",
        "        self.conv_layers = nn.Sequential(*conv_layers)\n",
        "        self.dropout = nn.Dropout(dropout_factor)\n",
        "        self.fc = nn.Linear(len(conv_layers)*fmaps, num_classes)\n",
        "    def forward(self, x):\n",
        "        x = self.embedding(x).unsqueeze(1)\n",
        "        x = [F.relu(conv(x)).squeeze(3) for conv in self.conv_layers]\n",
        "        x = [F.max_pool1d(c, c.size(2)).squeeze(2) for c in x]\n",
        "        x = torch.cat(x, 1)\n",
        "        x = self.dropout(x)\n",
        "        return self.fc(x)"
      ],
      "execution_count": null,
      "outputs": []
    },
    {
      "cell_type": "code",
      "metadata": {
        "id": "JLcFZ1kszDnA"
      },
      "source": [
        "data=pd.read_excel(\"/content/drive/MyDrive/Inter IIT/dev_data_tweet.xlsx\")"
      ],
      "execution_count": 389,
      "outputs": []
    },
    {
      "cell_type": "code",
      "metadata": {
        "id": "sVGx7y0Tysqk"
      },
      "source": [
        "data=pd.read_csv(\"/content/drive/MyDrive/Inter IIT/article_clean.csv\")"
      ],
      "execution_count": 369,
      "outputs": []
    },
    {
      "cell_type": "code",
      "metadata": {
        "colab": {
          "base_uri": "https://localhost:8080/",
          "height": 206
        },
        "id": "SB5RdHuB0HHX",
        "outputId": "5455c87e-4644-4ad7-f55b-91a9462ce15c"
      },
      "source": [
        "data.head()"
      ],
      "execution_count": 370,
      "outputs": [
        {
          "output_type": "execute_result",
          "data": {
            "text/html": [
              "<div>\n",
              "<style scoped>\n",
              "    .dataframe tbody tr th:only-of-type {\n",
              "        vertical-align: middle;\n",
              "    }\n",
              "\n",
              "    .dataframe tbody tr th {\n",
              "        vertical-align: top;\n",
              "    }\n",
              "\n",
              "    .dataframe thead th {\n",
              "        text-align: right;\n",
              "    }\n",
              "</style>\n",
              "<table border=\"1\" class=\"dataframe\">\n",
              "  <thead>\n",
              "    <tr style=\"text-align: right;\">\n",
              "      <th></th>\n",
              "      <th>Text</th>\n",
              "      <th>Headline</th>\n",
              "      <th>Mobile_Tech</th>\n",
              "    </tr>\n",
              "  </thead>\n",
              "  <tbody>\n",
              "    <tr>\n",
              "      <th>0</th>\n",
              "      <td>NaN</td>\n",
              "      <td>NaN</td>\n",
              "      <td>NaN</td>\n",
              "    </tr>\n",
              "    <tr>\n",
              "      <th>1</th>\n",
              "      <td>Digitisation is one of the key buzzwords in th...</td>\n",
              "      <td>Pakistan’s digital landscape post-Covid</td>\n",
              "      <td>0.0</td>\n",
              "    </tr>\n",
              "    <tr>\n",
              "      <th>2</th>\n",
              "      <td>Increase in tolerance limit up to 120 per cent...</td>\n",
              "      <td>Affordable housing gets shot in the arm</td>\n",
              "      <td>0.0</td>\n",
              "    </tr>\n",
              "    <tr>\n",
              "      <th>3</th>\n",
              "      <td>tax &amp; consulting group in India)Disclaimer: T...</td>\n",
              "      <td>Affordable housing gets shot in the arm</td>\n",
              "      <td>0.0</td>\n",
              "    </tr>\n",
              "    <tr>\n",
              "      <th>4</th>\n",
              "      <td>Home &gt; News &gt; World Sports NewsJonas Lossl lea...</td>\n",
              "      <td>Jonas Lossl leaves Everton to rejoin first clu...</td>\n",
              "      <td>0.0</td>\n",
              "    </tr>\n",
              "  </tbody>\n",
              "</table>\n",
              "</div>"
            ],
            "text/plain": [
              "                                                Text  ... Mobile_Tech\n",
              "0                                                NaN  ...         NaN\n",
              "1  Digitisation is one of the key buzzwords in th...  ...         0.0\n",
              "2  Increase in tolerance limit up to 120 per cent...  ...         0.0\n",
              "3   tax & consulting group in India)Disclaimer: T...  ...         0.0\n",
              "4  Home > News > World Sports NewsJonas Lossl lea...  ...         0.0\n",
              "\n",
              "[5 rows x 3 columns]"
            ]
          },
          "metadata": {
            "tags": []
          },
          "execution_count": 370
        }
      ]
    },
    {
      "cell_type": "code",
      "metadata": {
        "colab": {
          "base_uri": "https://localhost:8080/",
          "height": 52
        },
        "id": "YsP96Jh9z9ja",
        "outputId": "e18698e7-6332-4b29-9299-9a842b31fa1f"
      },
      "source": [
        "data[\"Tweet\"].values[139]"
      ],
      "execution_count": null,
      "outputs": [
        {
          "output_type": "execute_result",
          "data": {
            "application/vnd.google.colaboratory.intrinsic+json": {
              "type": "string"
            },
            "text/plain": [
              "'RT @ewarren: Canceling student loan debt would immediately put money in the pockets of millions of Americans. It would help dig our economy out of this crisis. And we don’t have to wait for Congress: the Biden-Harris administration can get it done with their executive authority.'"
            ]
          },
          "metadata": {
            "tags": []
          },
          "execution_count": 5
        }
      ]
    },
    {
      "cell_type": "code",
      "metadata": {
        "colab": {
          "base_uri": "https://localhost:8080/"
        },
        "id": "Ghp_8HLB7TE5",
        "outputId": "d2e61c23-26b5-4914-baf9-4e1abf4c730a"
      },
      "source": [
        "# removing stopwords\n",
        "text=[]\n",
        "for i in range(data.shape[0]):\n",
        "  text.append(data[\"Tweet\"].values[i])\n",
        "  # print(i)\n",
        "  text[i]=re.sub(r\"https\\S+\", \"\", str(text[i]))\n",
        "  text[i]=re.sub(r\"http\\S+\", \"\", text[i])\n",
        "  text[i]=re.sub(r\"@\\S+\", \"\", text[i])\n",
        "  text[i]=re.sub(r\"Cc\\S+\", \"\", text[i])\n",
        "  text[i]=re.sub(r\"[0-9]\",\"\",text[i])\n",
        "  text[i]=re.sub(r\"#\",\"\",text[i])\n",
        "  text[i]=re.sub(r\"-\",\" \",text[i])\n",
        "  text[i]=re.sub(r\"/\",\" or \",text[i])\n",
        "  text[i]=re.sub(r\"&\",\" and \",text[i])\n",
        "  text[i]=re.sub(r\"\\'ll\",\" will \",text[i])\n",
        "  text[i]=re.sub(r\"[,.?!$%^*@:][\\'।\\'\\\"]\",\" \",text[i])\n",
        "  text[i]=re.sub(r\"\\?\",\" \",text[i])\n",
        "  text[i]=re.sub(r\"\\>\",\" \",text[i])\n",
        "  text[i]=re.sub(r\"\\<\",\" \",text[i])\n",
        "  text[i]=re.sub(r\"\\.\",\" \",text[i])\n",
        "  text[i]=re.sub(r\"\\'\",\" \",text[i])\n",
        "  text[i]=re.sub(r\"_\",\" \",text[i])\n",
        "  text[i]=re.sub(r\"-\",\" \",text[i])\n",
        "  text[i]=re.sub(r\"\\(\",\" \",text[i])\n",
        "  text[i]=re.sub(r\"\\'\",\" \",text[i])\n",
        "  text[i]=re.sub(r\"\\)\",\" \",text[i])\n",
        "  text[i]=re.sub(r\"[\\U00010000-\\U0010ffff]\",\"\",text[i],flags=re.UNICODE)\n",
        "  text[i]=re.sub(r\"RT\",\"\",text[i])\n",
        "  text[i]=re.sub(r\"–\",\" \",text[i])\n",
        "  text[i]=re.sub(r\"\\s+\",\" \",text[i])\n",
        "  text[i]=text[i].lower()\n",
        "  text[i]=' '.join( [w for w in text[i].split() if len(w)>1] )\n",
        "  text[i]=text[i].strip()\n",
        "\n",
        "print(text[0])"
      ],
      "execution_count": 395,
      "outputs": [
        {
          "output_type": "stream",
          "text": [
            "you will my pitchwars book if you like: hate to love ownvoices ace or aro rep subdued mythology ride or die queerplatonic bonds fast pace, high risk star and plant imagery everywhere getting punched in your emotions pwparty⏱️\n"
          ],
          "name": "stdout"
        }
      ]
    },
    {
      "cell_type": "code",
      "metadata": {
        "colab": {
          "base_uri": "https://localhost:8080/"
        },
        "id": "kTpsaWAV-Gw9",
        "outputId": "47a43bac-40d6-41e1-818b-9044d7a7c0ab"
      },
      "source": [
        "text1=[]\n",
        "for i in range(data.shape[0]):\n",
        "  if data[\"Mobile_Tech_Tag\"].values[i]==1:\n",
        "    copy1=text[i]\n",
        "    copy2=text[i]\n",
        "    words=text[i].split()\n",
        "    if \"smartphone\" in words:\n",
        "      text1.append(copy1.replace(\"smartphone\",\"phone\"))\n",
        "      text1.append(copy2.replace(\"smartphone\",\"mobile\"))\n",
        "    elif \"smartphones\" in words:\n",
        "      text1.append(copy1.replace(\"smartphones\",\"phones\"))\n",
        "      text1.append(copy2.replace(\"smartphones\",\"mobiles\"))\n",
        "    elif \"स्मार्टफोन\" in words:\n",
        "      text1.append(copy1.replace(\"स्मार्टफोन\",\"फोन\"))\n",
        "      text1.append(copy2.replace(\"स्मार्टफोन\",\"मोबाइल\"))\n",
        "    elif \"स्मार्टफ़ोन\" in words:\n",
        "      text1.append(copy1.replace(\"स्मर्टफ़ोन\",\"फ़ोन\"))\n",
        "      text1.append(copy2.replace(\"स्मर्टफ़ोन\",\"मोबाइल\"))\n",
        "    elif \"स्मर्टफ़ोन\" in words:\n",
        "      text1.append(copy1.replace(\"स्मार्टफ़ोन\",\"फ़ोन\"))\n",
        "      text1.append(copy2.replace(\"स्मार्टफ़ोन\",\"मोबाइल\"))\n",
        "    elif \"स्मार्टफ़ोन्स\" in words:\n",
        "      text1.append(copy1.replace(\"स्मार्टफ़ोन्स\",\"फ़ोन्स\"))\n",
        "      text1.append(copy2.replace(\"स्मार्टफ़ोन्स\",\"मोबाइल्स\"))\n",
        "    elif \"स्मार्टफोन्स\" in words:\n",
        "      text1.append(copy1.replace(\"स्मार्टफोन्स\",\"फोन्स\"))\n",
        "      text1.append(copy2.replace(\"स्मार्टफोन्स\",\"मोबाइल्स\"))\n",
        "\n",
        "    # text1.append(' '.join(words))\n",
        "len(text1)"
      ],
      "execution_count": null,
      "outputs": [
        {
          "output_type": "execute_result",
          "data": {
            "text/plain": [
              "1890"
            ]
          },
          "metadata": {
            "tags": []
          },
          "execution_count": 250
        }
      ]
    },
    {
      "cell_type": "code",
      "metadata": {
        "colab": {
          "base_uri": "https://localhost:8080/"
        },
        "id": "zGvoKkWgOh64",
        "outputId": "ad359b95-21fd-4a4c-e6da-9dd4be9a9d1b"
      },
      "source": [
        "len(text)"
      ],
      "execution_count": null,
      "outputs": [
        {
          "output_type": "execute_result",
          "data": {
            "text/plain": [
              "4000"
            ]
          },
          "metadata": {
            "tags": []
          },
          "execution_count": 251
        }
      ]
    },
    {
      "cell_type": "code",
      "metadata": {
        "id": "3ZplxqeRDENC"
      },
      "source": [
        "text.extend(text1)"
      ],
      "execution_count": null,
      "outputs": []
    },
    {
      "cell_type": "code",
      "metadata": {
        "colab": {
          "base_uri": "https://localhost:8080/"
        },
        "id": "dEXV-NOUwTr0",
        "outputId": "502cda2f-3438-45f4-90f1-eafa8b00e0b4"
      },
      "source": [
        "c=re.compile(\"[A-Za-z]+\")\n",
        "if c.fullmatch(\"💜\") is None:\n",
        "  print(\"jg\")"
      ],
      "execution_count": null,
      "outputs": [
        {
          "output_type": "stream",
          "text": [
            "jg\n"
          ],
          "name": "stdout"
        }
      ]
    },
    {
      "cell_type": "code",
      "metadata": {
        "id": "6isi7rC_8zDo"
      },
      "source": [
        "labels=[]\n",
        "for i in range(data.shape[0]):\n",
        "  labels.append(data[\"Mobile_Tech_Tag\"].values[i])"
      ],
      "execution_count": 396,
      "outputs": []
    },
    {
      "cell_type": "code",
      "metadata": {
        "id": "5KxgZlkErkbq",
        "colab": {
          "base_uri": "https://localhost:8080/",
          "height": 153,
          "referenced_widgets": [
            "74566eec8f34456f939512eac16b6dcc",
            "df7dd9597663428f93c982b49cba57a6",
            "f593e357635d4b81973ef3710d83ba1d",
            "7f3ecc2da7a04a6f95fbd7904f78138e",
            "17a4579699b94b47b00abf28afde2f7d",
            "6cf2a1e4d9f14205841e09c9cf0f3cb1",
            "a1d978d3cef946fca604f1e8892ae9f7",
            "046ec97836244fbd88d7745c95570017"
          ]
        },
        "outputId": "6b6e01b2-d8d0-4e97-924a-e41cce434add"
      },
      "source": [
        "#mp sound is different (basically abbreviations sound will be diff to what we think as g2p is a true phoeneme converter but when we read mp we read it as \"m p\" instead of \"mp\"\n",
        "#but this anomaly is fine as whatever it is encoding for mp will hold for each instance and there is no hindi instance of mp but it would fail if text contains Mega pixel word \n",
        "#removed SIL\n",
        "\n",
        "total={}\n",
        "# stats=[]\n",
        "for k in tqdm_notebook(range(len(text)),total=len(text),unit=\"epoch\"):\n",
        "  final=[]\n",
        "  a=text[k].split()\n",
        "  a=a[:150]\n",
        "  for j in range(len(a)):\n",
        "    # print(j,len(a[j]),a[j])\n",
        "    pattern=re.compile(\"[A-Za-z]+\")\n",
        "    temp=pattern.fullmatch(a[j])\n",
        "    if temp is not None:\n",
        "      b=\"en\"\n",
        "      s=[]\n",
        "      out = g2p(a[j])\n",
        "      # print(out)\n",
        "      for x in range(len(out)):\n",
        "        out[x]=re.sub(r\"[0-9]\",\"\",out[x])\n",
        "        # print(x)\n",
        "        out[x]=re.sub(r\"\\.\",\"\",out[x])\n",
        "        out[x]=re.sub(r\"\\,\",\"\",out[x])\n",
        "        if out[x]!=\"\":\n",
        "          s.append(converter[out[x]])\n",
        "    else:\n",
        "      b=\"hi\"\n",
        "      s=text_phonemes(a[j])[0]\n",
        "    if len(s)>0:\n",
        "      final.append(s)\n",
        "    final.append(['SIL'])\n",
        "  # print(t_final[k],final)\n",
        "\n",
        "  vocab=[]\n",
        "  for key,values in converter.items():\n",
        "    vocab.append(values)\n",
        "  word_to_ix = {word: i+1 for i, word in enumerate(vocab)}\n",
        "  phonemes_num=[]\n",
        "  for j in range(len(final)):\n",
        "    a_temp=[]\n",
        "    for i in range(len(final[j])):\n",
        "      # print([word_to_ix[w] for w in phonemes_final[i]])\n",
        "      a_temp.append(word_to_ix[final[j][i]])\n",
        "    phonemes_num.append(a_temp)\n",
        "  # print(phonemes_num)\n",
        "  for i in range(1,len(phonemes_num)):\n",
        "    phonemes_num[0].extend(phonemes_num[i])\n",
        "  go=[]\n",
        "  go.append(phonemes_num[0])\n",
        "  input_ids = pad_sequences(go, maxlen=550, dtype=\"long\", value=0, truncating=\"post\", padding=\"post\")\n",
        "  total[text[k]]=(input_ids,labels[k])\n",
        "  # stats.append(len(phonemes_num[0]))"
      ],
      "execution_count": 397,
      "outputs": [
        {
          "output_type": "stream",
          "text": [
            "/usr/local/lib/python3.7/dist-packages/ipykernel_launcher.py:7: TqdmDeprecationWarning:\n",
            "\n",
            "This function will be removed in tqdm==5.0.0\n",
            "Please use `tqdm.notebook.tqdm` instead of `tqdm.tqdm_notebook`\n",
            "\n"
          ],
          "name": "stderr"
        },
        {
          "output_type": "display_data",
          "data": {
            "application/vnd.jupyter.widget-view+json": {
              "model_id": "74566eec8f34456f939512eac16b6dcc",
              "version_minor": 0,
              "version_major": 2
            },
            "text/plain": [
              "HBox(children=(FloatProgress(value=0.0, max=4000.0), HTML(value='')))"
            ]
          },
          "metadata": {
            "tags": []
          }
        },
        {
          "output_type": "stream",
          "text": [
            "\n"
          ],
          "name": "stdout"
        }
      ]
    },
    {
      "cell_type": "code",
      "metadata": {
        "colab": {
          "base_uri": "https://localhost:8080/"
        },
        "id": "UIJVXVzO7uKA",
        "outputId": "8c55b1ff-7e9d-4003-c66a-632121a9de5f"
      },
      "source": [
        "len(labels)"
      ],
      "execution_count": null,
      "outputs": [
        {
          "output_type": "execute_result",
          "data": {
            "text/plain": [
              "5512"
            ]
          },
          "metadata": {
            "tags": []
          },
          "execution_count": 13
        }
      ]
    },
    {
      "cell_type": "code",
      "metadata": {
        "id": "daOHeTPgcbVC",
        "colab": {
          "base_uri": "https://localhost:8080/"
        },
        "outputId": "7ca2aa59-c422-4a01-c8e0-bff9c412469d"
      },
      "source": [
        "len(total)"
      ],
      "execution_count": null,
      "outputs": [
        {
          "output_type": "execute_result",
          "data": {
            "text/plain": [
              "4741"
            ]
          },
          "metadata": {
            "tags": []
          },
          "execution_count": 14
        }
      ]
    },
    {
      "cell_type": "code",
      "metadata": {
        "colab": {
          "base_uri": "https://localhost:8080/"
        },
        "id": "3LI-T1xHDIne",
        "outputId": "6aa0cb53-5c04-4533-c354-f1093e42125c"
      },
      "source": [
        "import statistics \n",
        "statistics.stdev(stats)"
      ],
      "execution_count": null,
      "outputs": [
        {
          "output_type": "execute_result",
          "data": {
            "text/plain": [
              "87.10730079443769"
            ]
          },
          "metadata": {
            "tags": []
          },
          "execution_count": 179
        }
      ]
    },
    {
      "cell_type": "code",
      "metadata": {
        "colab": {
          "base_uri": "https://localhost:8080/"
        },
        "id": "dZFIRXR5Hkjy",
        "outputId": "9106dec8-d83d-4c07-ab86-67f76f89862b"
      },
      "source": [
        "count=0\n",
        "for i in range(len(stats)):\n",
        "  if stats[i]>69 and stats[i]<282:\n",
        "    # print(i)\n",
        "    count=count+1\n",
        "print(count)"
      ],
      "execution_count": null,
      "outputs": [
        {
          "output_type": "stream",
          "text": [
            "4951\n"
          ],
          "name": "stdout"
        }
      ]
    },
    {
      "cell_type": "code",
      "metadata": {
        "id": "4praVMdUHgiq"
      },
      "source": [
        "t_final=[]\n",
        "labels=[]\n",
        "for i in range(len(stats)):\n",
        "  if stats[i]>86 and stats[i]<282:\n",
        "    t_final.append(text[i])\n",
        "    if i <4000:\n",
        "      labels.append(data[\"Mobile_Tech_Tag\"].values[i])\n",
        "    else:\n",
        "      labels.append(1)"
      ],
      "execution_count": null,
      "outputs": []
    },
    {
      "cell_type": "code",
      "metadata": {
        "colab": {
          "base_uri": "https://localhost:8080/"
        },
        "id": "q7eVYz5iTfSd",
        "outputId": "1b3cd315-8741-4399-9385-20f625a25c77"
      },
      "source": [
        "len(total)"
      ],
      "execution_count": null,
      "outputs": [
        {
          "output_type": "execute_result",
          "data": {
            "text/plain": [
              "2071"
            ]
          },
          "metadata": {
            "tags": []
          },
          "execution_count": 120
        }
      ]
    },
    {
      "cell_type": "code",
      "metadata": {
        "colab": {
          "base_uri": "https://localhost:8080/"
        },
        "id": "zlmxWL8BI4yP",
        "outputId": "2a2ba549-d6e3-42b1-b048-7862243632b1"
      },
      "source": [
        "count=0\n",
        "for i in range(len(labels)):\n",
        "  if labels[i]==0:\n",
        "    count=count+1\n",
        "print(count)"
      ],
      "execution_count": null,
      "outputs": [
        {
          "output_type": "stream",
          "text": [
            "2260\n"
          ],
          "name": "stdout"
        }
      ]
    },
    {
      "cell_type": "code",
      "metadata": {
        "id": "DPcQQlNhdVE7"
      },
      "source": [
        "device_gpu= torch.device(\"cuda:0\" if torch.cuda.is_available() else \"cpu\")"
      ],
      "execution_count": 12,
      "outputs": []
    },
    {
      "cell_type": "code",
      "metadata": {
        "id": "p3-Ax5YyDYRQ"
      },
      "source": [
        "class CNNModel(nn.Module):\n",
        "    def __init__(self, vocab_size, emb_dim, fmaps, strides, dropout_factor, num_classes):\n",
        "        super(CNNModel, self).__init__()\n",
        "        self.embedding = nn.Embedding(vocab_size, emb_dim)\n",
        "        conv_layers = [nn.Conv2d(1, fmaps, (stride, emb_dim), padding=(stride-1, 0)) for stride in strides]\n",
        "        \n",
        "        self.conv_layers = nn.Sequential(*conv_layers)\n",
        "        self.final_conv_layer=nn.Conv2d(1, fmaps, (strides[2],100), padding=(strides[2]-1, 0))\n",
        "        self.dropout = nn.Dropout(dropout_factor)\n",
        "        self.fc = nn.Linear(len(conv_layers)*fmaps, num_classes)\n",
        "    def forward(self, x,x_s):\n",
        "        # print(\"shape\",x.shape)\n",
        "        x = self.embedding(x).unsqueeze(1)\n",
        "        # print(x.shape)\n",
        "        x1 = [F.relu(conv(x)).squeeze(3) for conv in self.conv_layers]\n",
        "\n",
        "        if x_s is not None:\n",
        "          x_s = self.embedding(x_s).unsqueeze(1)\n",
        "          # print(x.shape)\n",
        "          x1_s = [F.relu(conv(x)).squeeze(3) for conv in self.conv_layers]\n",
        "\n",
        "          x1 = [x1[i]+x1_s[i] for i in range(len(x1))]\n",
        "        # print(x1[0].shape)\n",
        "        x1=[F.relu(self.final_conv_layer(x1[i].reshape(x1[i].shape[0],x1[i].shape[2],x1[i].shape[1]).unsqueeze(1))).squeeze(3) for i in range(len(x1))]\n",
        "        # print(x1[0].shape)\n",
        "        x = [F.max_pool1d(c, c.size(2)).squeeze(2) for c in x1]\n",
        "        x = torch.cat(x, 1)\n",
        "        x = self.dropout(x)\n",
        "       \n",
        "        return x1,self.fc(x)"
      ],
      "execution_count": 375,
      "outputs": []
    },
    {
      "cell_type": "code",
      "metadata": {
        "colab": {
          "base_uri": "https://localhost:8080/"
        },
        "id": "nBvOWjPnXEfZ",
        "outputId": "86d589cc-7abb-4991-acc9-c3b087a34e36"
      },
      "source": [
        "labels[0].shape"
      ],
      "execution_count": null,
      "outputs": [
        {
          "output_type": "execute_result",
          "data": {
            "text/plain": [
              "()"
            ]
          },
          "metadata": {
            "tags": []
          },
          "execution_count": 32
        }
      ]
    },
    {
      "cell_type": "markdown",
      "metadata": {
        "id": "ex6-0tjgmwF-"
      },
      "source": [
        "# **TRAINING**"
      ]
    },
    {
      "cell_type": "code",
      "metadata": {
        "colab": {
          "base_uri": "https://localhost:8080/"
        },
        "id": "YKHJzbRxLDlp",
        "outputId": "7ab4bdd6-7c6e-4d70-c81b-9c4f5dd6a624"
      },
      "source": [
        "count=[]\n",
        "count1=[]\n",
        "p=0\n",
        "for keys,values in total.items():\n",
        "  \n",
        "  count.append(values[0])\n",
        "  count1.append(values[1])\n",
        "  if values[1]==1:\n",
        "    p=p+1\n",
        "   \n",
        "p"
      ],
      "execution_count": 398,
      "outputs": [
        {
          "output_type": "execute_result",
          "data": {
            "text/plain": [
              "407"
            ]
          },
          "metadata": {
            "tags": []
          },
          "execution_count": 398
        }
      ]
    },
    {
      "cell_type": "code",
      "metadata": {
        "colab": {
          "base_uri": "https://localhost:8080/"
        },
        "id": "cv4y7I0DYAQp",
        "outputId": "e6fba840-c969-435d-cef2-f2d7e9bae9a6"
      },
      "source": [
        "labels=torch.LongTensor(len(count1),1)\n",
        "for i in range(len(count1)):\n",
        "  labels[i,:]=torch.LongTensor([count1[i]])\n",
        "labels=labels.squeeze(1)\n",
        "labels.shape"
      ],
      "execution_count": 399,
      "outputs": [
        {
          "output_type": "execute_result",
          "data": {
            "text/plain": [
              "torch.Size([2067])"
            ]
          },
          "metadata": {
            "tags": []
          },
          "execution_count": 399
        }
      ]
    },
    {
      "cell_type": "code",
      "metadata": {
        "colab": {
          "base_uri": "https://localhost:8080/"
        },
        "id": "sOe1iQg3W09j",
        "outputId": "430429d2-9e72-4640-d781-6783d948ad95"
      },
      "source": [
        "padded_text=torch.LongTensor(len(count),1,550)\n",
        "for i in range(len(count)):\n",
        "  padded_text[i,:,:]=torch.LongTensor(count[i])\n",
        "padded_text=padded_text.squeeze(1)\n",
        "padded_text.shape"
      ],
      "execution_count": 400,
      "outputs": [
        {
          "output_type": "execute_result",
          "data": {
            "text/plain": [
              "torch.Size([2067, 550])"
            ]
          },
          "metadata": {
            "tags": []
          },
          "execution_count": 400
        }
      ]
    },
    {
      "cell_type": "code",
      "metadata": {
        "id": "ZTQwldm3TVtw"
      },
      "source": [
        "from sklearn.model_selection import train_test_split\n",
        "train_text,validation_text,train_labels,validation_labels=train_test_split(padded_text,labels,random_state=2018, test_size=0.1,stratify=labels)"
      ],
      "execution_count": 380,
      "outputs": []
    },
    {
      "cell_type": "code",
      "metadata": {
        "colab": {
          "base_uri": "https://localhost:8080/"
        },
        "id": "LJtocQMQ98RO",
        "outputId": "5efa4e8b-355a-4da7-aed6-bc7d924aefa5"
      },
      "source": [
        "train_text.shape"
      ],
      "execution_count": null,
      "outputs": [
        {
          "output_type": "execute_result",
          "data": {
            "text/plain": [
              "torch.Size([4266, 350])"
            ]
          },
          "metadata": {
            "tags": []
          },
          "execution_count": 48
        }
      ]
    },
    {
      "cell_type": "code",
      "metadata": {
        "id": "-NM_cbs9FhEi"
      },
      "source": [
        "pred_text=padded_text\n",
        "pred_labels=labels\n",
        "pred_data = TensorDataset(pred_text, pred_labels)\n",
        "pred_sampler = SequentialSampler(pred_data)\n",
        "pred_dataloader = DataLoader(pred_data, sampler=pred_sampler, batch_size=pred_text.shape[0])\n"
      ],
      "execution_count": 401,
      "outputs": []
    },
    {
      "cell_type": "code",
      "metadata": {
        "id": "YMLu7foSUFIN"
      },
      "source": [
        "class_sample_counts = np.unique(train_labels, return_counts=True)[1]"
      ],
      "execution_count": 381,
      "outputs": []
    },
    {
      "cell_type": "code",
      "metadata": {
        "id": "OyC6YAcuZL3e",
        "colab": {
          "base_uri": "https://localhost:8080/"
        },
        "outputId": "6eeafaf7-5595-4415-cfa6-1c220f5ceb9c"
      },
      "source": [
        "from torch.utils.data import TensorDataset, DataLoader, RandomSampler, SequentialSampler, WeightedRandomSampler \n",
        "\n",
        "batch_size = 32\n",
        "train_data = TensorDataset(train_text, train_labels)\n",
        "weights = 1. / torch.tensor(class_sample_counts, dtype=torch.float)\n",
        "print(weights)\n",
        "samples_weights = weights[train_labels]\n",
        "\n",
        "train_sampler = WeightedRandomSampler(\n",
        "    weights=samples_weights,\n",
        "    num_samples=len(samples_weights),\n",
        "    replacement=True)\n",
        "train_dataloader = DataLoader(train_data, sampler=train_sampler, batch_size=batch_size)\n",
        "validation_data = TensorDataset(validation_text, validation_labels)\n",
        "validation_sampler = SequentialSampler(validation_data)\n",
        "validation_dataloader = DataLoader(validation_data, sampler=validation_sampler, batch_size=validation_text.shape[0])\n"
      ],
      "execution_count": 382,
      "outputs": [
        {
          "output_type": "stream",
          "text": [
            "tensor([0.0003, 0.0010])\n"
          ],
          "name": "stdout"
        }
      ]
    },
    {
      "cell_type": "code",
      "metadata": {
        "id": "xMgIEAIKed7-"
      },
      "source": [
        "loss_values=[]"
      ],
      "execution_count": 383,
      "outputs": []
    },
    {
      "cell_type": "code",
      "metadata": {
        "id": "TUYTrkjIULFj"
      },
      "source": [
        "# Keep only a single checkpoint, the best over test accuracy.\n",
        "def save_checkpoint(state, is_best, filename='/content/drive/MyDrive/Inter IIT/checkpoint_article_latent_mix_high_seq_len.pth.tar'):\n",
        "    \"\"\"Save checkpoint if a new best is achieved\"\"\"\n",
        "    if is_best:\n",
        "        print (\"=> Saving a new best\")\n",
        "        torch.save(state, filename)  # save checkpoint\n",
        "    else:\n",
        "        print (\"=> Training Loss did not improve\")"
      ],
      "execution_count": 405,
      "outputs": []
    },
    {
      "cell_type": "code",
      "metadata": {
        "colab": {
          "base_uri": "https://localhost:8080/"
        },
        "id": "vpbcbnCcUXQh",
        "outputId": "1684dee8-f195-44ec-e655-343165e17d34"
      },
      "source": [
        "save_checkpoint({\n",
        "      'epoch':61,\n",
        "      'state_dict':net.state_dict(),\n",
        "      'best_accuracy':0.96\n",
        "  },True)"
      ],
      "execution_count": 406,
      "outputs": [
        {
          "output_type": "stream",
          "text": [
            "=> Saving a new best\n"
          ],
          "name": "stdout"
        }
      ]
    },
    {
      "cell_type": "code",
      "metadata": {
        "id": "1K65Uk6HZet9"
      },
      "source": [
        "import random\n",
        "seed_val = 42\n",
        "random.seed(seed_val)\n",
        "np.random.seed(seed_val)\n",
        "torch.manual_seed(seed_val)\n",
        "torch.cuda.manual_seed_all(seed_val)\n",
        "\n",
        "\n",
        "criterion = nn.CrossEntropyLoss()\n",
        "\n",
        "# net=CNNModel(230,512,100,(3,4,5),0.5,2).to(device_gpu)\n",
        "opt = optim.Adam(net.parameters())\n",
        "net=net.to(device_gpu)\n",
        "\n",
        "for epoch_i in range(55):\n",
        "  net.train()\n",
        "  total_loss = 0\n",
        "  for i, data in enumerate(train_dataloader):\n",
        "    text=data[0].long().to(device_gpu)\n",
        "    labels=data[1].long().to(device_gpu)\n",
        "    va_data = TensorDataset(text,labels)\n",
        "    va_sampler = RandomSampler(va_data)\n",
        "    va_dataloader = DataLoader(va_data, sampler=va_sampler, batch_size=text.shape[0])\n",
        "    for k,l in enumerate(va_dataloader):\n",
        "      shuffled_text=l[0].long().to(device_gpu)\n",
        "      shuffled_label=l[1].long().to(device_gpu)\n",
        "    \n",
        "    opt.zero_grad() \n",
        "    outputs=net(text,shuffled_text)\n",
        "    # print(outputs,labels)\n",
        "    loss=criterion(outputs[1],labels.long().to(device_gpu))\n",
        "    \n",
        "    # print(\"ind loss\",loss.item())\n",
        "    total_loss += loss.item()/32\n",
        "    \n",
        "    loss.backward(retain_graph=True)\n",
        "    torch.nn.utils.clip_grad_norm_(net.parameters(), 1.0)\n",
        "    opt.step()\n",
        "  avg_train_loss = total_loss / len(train_dataloader)\n",
        "  # print(\"juht\",avg_train_loss)\n",
        "  loss_values.append(avg_train_loss)\n"
      ],
      "execution_count": null,
      "outputs": []
    },
    {
      "cell_type": "code",
      "metadata": {
        "id": "cS6qi1lJ-dvd"
      },
      "source": [
        "net=CNNModel(550,512,100,(3,4,5),0.5,2).to(device_gpu)"
      ],
      "execution_count": 384,
      "outputs": []
    },
    {
      "cell_type": "code",
      "metadata": {
        "id": "m0yl-NmkmDtJ"
      },
      "source": [
        "net=net.to(device_gpu)"
      ],
      "execution_count": 402,
      "outputs": []
    },
    {
      "cell_type": "code",
      "metadata": {
        "id": "Ojylbxsou4VJ"
      },
      "source": [
        "def evaluation(dataloader,net):\n",
        "    net.eval()\n",
        "    \n",
        "    total, correct = 0, 0\n",
        "    for data in dataloader:\n",
        "        inputs, labels = data\n",
        "        inputs, labels = inputs.to(device_gpu), labels.to(device_gpu)\n",
        "        \n",
        "        outputs = net(inputs,None)\n",
        "        \n",
        "        # print(outputs)\n",
        "        _, pred = torch.max(outputs[1], 1)\n",
        "        total += labels.size(0)\n",
        "        #print(pred,labels)\n",
        "        correct += (pred == labels).sum().item()\n",
        "    #print(correct,total)\n",
        "    #return 100 * correct / total\n",
        "    return pred,labels,100 * correct / total"
      ],
      "execution_count": 322,
      "outputs": []
    },
    {
      "cell_type": "code",
      "metadata": {
        "colab": {
          "base_uri": "https://localhost:8080/"
        },
        "id": "0Lek8OaZvKH4",
        "outputId": "d68413e0-aa08-49db-cd1c-c488640ab445"
      },
      "source": [
        "evaluation(pred_dataloader,net)"
      ],
      "execution_count": 403,
      "outputs": [
        {
          "output_type": "execute_result",
          "data": {
            "text/plain": [
              "(tensor([0, 0, 0,  ..., 1, 1, 1], device='cuda:0'),\n",
              " tensor([0, 0, 0,  ..., 1, 1, 1], device='cuda:0'),\n",
              " 96.03289791969037)"
            ]
          },
          "metadata": {
            "tags": []
          },
          "execution_count": 403
        }
      ]
    },
    {
      "cell_type": "code",
      "metadata": {
        "colab": {
          "base_uri": "https://localhost:8080/",
          "height": 542
        },
        "id": "wnbjSgZ4droO",
        "outputId": "72a389de-c1c3-4c78-835c-c6884b20305f"
      },
      "source": [
        "import plotly.express as px\n",
        "f = pd.DataFrame(loss_values)\n",
        "f.columns=['Loss']\n",
        "fig = px.line(f, x=f.index, y=f.Loss)\n",
        "fig.update_layout(title='Training loss of the Model',\n",
        " xaxis_title='Epoch',\n",
        " yaxis_title='Loss')\n",
        "fig.show()"
      ],
      "execution_count": 386,
      "outputs": [
        {
          "output_type": "display_data",
          "data": {
            "text/html": [
              "<html>\n",
              "<head><meta charset=\"utf-8\" /></head>\n",
              "<body>\n",
              "    <div>\n",
              "            <script src=\"https://cdnjs.cloudflare.com/ajax/libs/mathjax/2.7.5/MathJax.js?config=TeX-AMS-MML_SVG\"></script><script type=\"text/javascript\">if (window.MathJax) {MathJax.Hub.Config({SVG: {font: \"STIX-Web\"}});}</script>\n",
              "                <script type=\"text/javascript\">window.PlotlyConfig = {MathJaxConfig: 'local'};</script>\n",
              "        <script src=\"https://cdn.plot.ly/plotly-latest.min.js\"></script>    \n",
              "            <div id=\"3e6b5f4f-88c6-4523-a79b-4d25de032ba7\" class=\"plotly-graph-div\" style=\"height:525px; width:100%;\"></div>\n",
              "            <script type=\"text/javascript\">\n",
              "                \n",
              "                    window.PLOTLYENV=window.PLOTLYENV || {};\n",
              "                    \n",
              "                if (document.getElementById(\"3e6b5f4f-88c6-4523-a79b-4d25de032ba7\")) {\n",
              "                    Plotly.newPlot(\n",
              "                        '3e6b5f4f-88c6-4523-a79b-4d25de032ba7',\n",
              "                        [{\"hoverlabel\": {\"namelength\": 0}, \"hovertemplate\": \"index=%{x}<br>Loss=%{y}\", \"legendgroup\": \"\", \"line\": {\"color\": \"#636efa\", \"dash\": \"solid\"}, \"mode\": \"lines\", \"name\": \"\", \"showlegend\": false, \"type\": \"scatter\", \"x\": [0, 1, 2, 3, 4, 5, 6, 7, 8, 9, 10, 11, 12, 13, 14, 15, 16, 17, 18, 19, 20, 21, 22, 23, 24, 25, 26, 27, 28, 29, 30, 31, 32, 33, 34, 35, 36, 37, 38, 39], \"xaxis\": \"x\", \"y\": [0.02138097479995062, 0.009831772595922003, 0.006543357126803985, 0.0042957589256146286, 0.0034674554882977685, 0.003042071585981314, 0.002674006851059437, 0.002245323028050938, 0.00238279176890623, 0.0025164852113448433, 0.0014428423647424003, 0.0023619465323480343, 0.0017537584740001699, 0.0018839530599764338, 0.0013778963851450074, 0.0014940248836156857, 0.0015812029231396432, 0.0018347205577523976, 0.0017890923366586584, 0.001292091176214858, 0.001325036199177096, 0.0018140831089386786, 0.0009330010146031243, 0.00149247351961964, 0.0012091191675181212, 0.0012143792000260513, 0.0011022378878307766, 0.001820309602849953, 0.001437573965453401, 0.0010832145777784758, 0.0013499809121962185, 0.0018348903665200281, 0.001497686686459017, 0.0015459640534974367, 0.0010520889930612906, 0.0016186629402683845, 0.0013805007700515265, 0.0008436055458804128, 0.0014536018802220226, 0.0016078549627452385], \"yaxis\": \"y\"}],\n",
              "                        {\"legend\": {\"tracegroupgap\": 0}, \"margin\": {\"t\": 60}, \"template\": {\"data\": {\"bar\": [{\"error_x\": {\"color\": \"#2a3f5f\"}, \"error_y\": {\"color\": \"#2a3f5f\"}, \"marker\": {\"line\": {\"color\": \"#E5ECF6\", \"width\": 0.5}}, \"type\": \"bar\"}], \"barpolar\": [{\"marker\": {\"line\": {\"color\": \"#E5ECF6\", \"width\": 0.5}}, \"type\": \"barpolar\"}], \"carpet\": [{\"aaxis\": {\"endlinecolor\": \"#2a3f5f\", \"gridcolor\": \"white\", \"linecolor\": \"white\", \"minorgridcolor\": \"white\", \"startlinecolor\": \"#2a3f5f\"}, \"baxis\": {\"endlinecolor\": \"#2a3f5f\", \"gridcolor\": \"white\", \"linecolor\": \"white\", \"minorgridcolor\": \"white\", \"startlinecolor\": \"#2a3f5f\"}, \"type\": \"carpet\"}], \"choropleth\": [{\"colorbar\": {\"outlinewidth\": 0, \"ticks\": \"\"}, \"type\": \"choropleth\"}], \"contour\": [{\"colorbar\": {\"outlinewidth\": 0, \"ticks\": \"\"}, \"colorscale\": [[0.0, \"#0d0887\"], [0.1111111111111111, \"#46039f\"], [0.2222222222222222, \"#7201a8\"], [0.3333333333333333, \"#9c179e\"], [0.4444444444444444, \"#bd3786\"], [0.5555555555555556, \"#d8576b\"], [0.6666666666666666, \"#ed7953\"], [0.7777777777777778, \"#fb9f3a\"], [0.8888888888888888, \"#fdca26\"], [1.0, \"#f0f921\"]], \"type\": \"contour\"}], \"contourcarpet\": [{\"colorbar\": {\"outlinewidth\": 0, \"ticks\": \"\"}, \"type\": \"contourcarpet\"}], \"heatmap\": [{\"colorbar\": {\"outlinewidth\": 0, \"ticks\": \"\"}, \"colorscale\": [[0.0, \"#0d0887\"], [0.1111111111111111, \"#46039f\"], [0.2222222222222222, \"#7201a8\"], [0.3333333333333333, \"#9c179e\"], [0.4444444444444444, \"#bd3786\"], [0.5555555555555556, \"#d8576b\"], [0.6666666666666666, \"#ed7953\"], [0.7777777777777778, \"#fb9f3a\"], [0.8888888888888888, \"#fdca26\"], [1.0, \"#f0f921\"]], \"type\": \"heatmap\"}], \"heatmapgl\": [{\"colorbar\": {\"outlinewidth\": 0, \"ticks\": \"\"}, \"colorscale\": [[0.0, \"#0d0887\"], [0.1111111111111111, \"#46039f\"], [0.2222222222222222, \"#7201a8\"], [0.3333333333333333, \"#9c179e\"], [0.4444444444444444, \"#bd3786\"], [0.5555555555555556, \"#d8576b\"], [0.6666666666666666, \"#ed7953\"], [0.7777777777777778, \"#fb9f3a\"], [0.8888888888888888, \"#fdca26\"], [1.0, \"#f0f921\"]], \"type\": \"heatmapgl\"}], \"histogram\": [{\"marker\": {\"colorbar\": {\"outlinewidth\": 0, \"ticks\": \"\"}}, \"type\": \"histogram\"}], \"histogram2d\": [{\"colorbar\": {\"outlinewidth\": 0, \"ticks\": \"\"}, \"colorscale\": [[0.0, \"#0d0887\"], [0.1111111111111111, \"#46039f\"], [0.2222222222222222, \"#7201a8\"], [0.3333333333333333, \"#9c179e\"], [0.4444444444444444, \"#bd3786\"], [0.5555555555555556, \"#d8576b\"], [0.6666666666666666, \"#ed7953\"], [0.7777777777777778, \"#fb9f3a\"], [0.8888888888888888, \"#fdca26\"], [1.0, \"#f0f921\"]], \"type\": \"histogram2d\"}], \"histogram2dcontour\": [{\"colorbar\": {\"outlinewidth\": 0, \"ticks\": \"\"}, \"colorscale\": [[0.0, \"#0d0887\"], [0.1111111111111111, \"#46039f\"], [0.2222222222222222, \"#7201a8\"], [0.3333333333333333, \"#9c179e\"], [0.4444444444444444, \"#bd3786\"], [0.5555555555555556, \"#d8576b\"], [0.6666666666666666, \"#ed7953\"], [0.7777777777777778, \"#fb9f3a\"], [0.8888888888888888, \"#fdca26\"], [1.0, \"#f0f921\"]], \"type\": \"histogram2dcontour\"}], \"mesh3d\": [{\"colorbar\": {\"outlinewidth\": 0, \"ticks\": \"\"}, \"type\": \"mesh3d\"}], \"parcoords\": [{\"line\": {\"colorbar\": {\"outlinewidth\": 0, \"ticks\": \"\"}}, \"type\": \"parcoords\"}], \"pie\": [{\"automargin\": true, \"type\": \"pie\"}], \"scatter\": [{\"marker\": {\"colorbar\": {\"outlinewidth\": 0, \"ticks\": \"\"}}, \"type\": \"scatter\"}], \"scatter3d\": [{\"line\": {\"colorbar\": {\"outlinewidth\": 0, \"ticks\": \"\"}}, \"marker\": {\"colorbar\": {\"outlinewidth\": 0, \"ticks\": \"\"}}, \"type\": \"scatter3d\"}], \"scattercarpet\": [{\"marker\": {\"colorbar\": {\"outlinewidth\": 0, \"ticks\": \"\"}}, \"type\": \"scattercarpet\"}], \"scattergeo\": [{\"marker\": {\"colorbar\": {\"outlinewidth\": 0, \"ticks\": \"\"}}, \"type\": \"scattergeo\"}], \"scattergl\": [{\"marker\": {\"colorbar\": {\"outlinewidth\": 0, \"ticks\": \"\"}}, \"type\": \"scattergl\"}], \"scattermapbox\": [{\"marker\": {\"colorbar\": {\"outlinewidth\": 0, \"ticks\": \"\"}}, \"type\": \"scattermapbox\"}], \"scatterpolar\": [{\"marker\": {\"colorbar\": {\"outlinewidth\": 0, \"ticks\": \"\"}}, \"type\": \"scatterpolar\"}], \"scatterpolargl\": [{\"marker\": {\"colorbar\": {\"outlinewidth\": 0, \"ticks\": \"\"}}, \"type\": \"scatterpolargl\"}], \"scatterternary\": [{\"marker\": {\"colorbar\": {\"outlinewidth\": 0, \"ticks\": \"\"}}, \"type\": \"scatterternary\"}], \"surface\": [{\"colorbar\": {\"outlinewidth\": 0, \"ticks\": \"\"}, \"colorscale\": [[0.0, \"#0d0887\"], [0.1111111111111111, \"#46039f\"], [0.2222222222222222, \"#7201a8\"], [0.3333333333333333, \"#9c179e\"], [0.4444444444444444, \"#bd3786\"], [0.5555555555555556, \"#d8576b\"], [0.6666666666666666, \"#ed7953\"], [0.7777777777777778, \"#fb9f3a\"], [0.8888888888888888, \"#fdca26\"], [1.0, \"#f0f921\"]], \"type\": \"surface\"}], \"table\": [{\"cells\": {\"fill\": {\"color\": \"#EBF0F8\"}, \"line\": {\"color\": \"white\"}}, \"header\": {\"fill\": {\"color\": \"#C8D4E3\"}, \"line\": {\"color\": \"white\"}}, \"type\": \"table\"}]}, \"layout\": {\"annotationdefaults\": {\"arrowcolor\": \"#2a3f5f\", \"arrowhead\": 0, \"arrowwidth\": 1}, \"coloraxis\": {\"colorbar\": {\"outlinewidth\": 0, \"ticks\": \"\"}}, \"colorscale\": {\"diverging\": [[0, \"#8e0152\"], [0.1, \"#c51b7d\"], [0.2, \"#de77ae\"], [0.3, \"#f1b6da\"], [0.4, \"#fde0ef\"], [0.5, \"#f7f7f7\"], [0.6, \"#e6f5d0\"], [0.7, \"#b8e186\"], [0.8, \"#7fbc41\"], [0.9, \"#4d9221\"], [1, \"#276419\"]], \"sequential\": [[0.0, \"#0d0887\"], [0.1111111111111111, \"#46039f\"], [0.2222222222222222, \"#7201a8\"], [0.3333333333333333, \"#9c179e\"], [0.4444444444444444, \"#bd3786\"], [0.5555555555555556, \"#d8576b\"], [0.6666666666666666, \"#ed7953\"], [0.7777777777777778, \"#fb9f3a\"], [0.8888888888888888, \"#fdca26\"], [1.0, \"#f0f921\"]], \"sequentialminus\": [[0.0, \"#0d0887\"], [0.1111111111111111, \"#46039f\"], [0.2222222222222222, \"#7201a8\"], [0.3333333333333333, \"#9c179e\"], [0.4444444444444444, \"#bd3786\"], [0.5555555555555556, \"#d8576b\"], [0.6666666666666666, \"#ed7953\"], [0.7777777777777778, \"#fb9f3a\"], [0.8888888888888888, \"#fdca26\"], [1.0, \"#f0f921\"]]}, \"colorway\": [\"#636efa\", \"#EF553B\", \"#00cc96\", \"#ab63fa\", \"#FFA15A\", \"#19d3f3\", \"#FF6692\", \"#B6E880\", \"#FF97FF\", \"#FECB52\"], \"font\": {\"color\": \"#2a3f5f\"}, \"geo\": {\"bgcolor\": \"white\", \"lakecolor\": \"white\", \"landcolor\": \"#E5ECF6\", \"showlakes\": true, \"showland\": true, \"subunitcolor\": \"white\"}, \"hoverlabel\": {\"align\": \"left\"}, \"hovermode\": \"closest\", \"mapbox\": {\"style\": \"light\"}, \"paper_bgcolor\": \"white\", \"plot_bgcolor\": \"#E5ECF6\", \"polar\": {\"angularaxis\": {\"gridcolor\": \"white\", \"linecolor\": \"white\", \"ticks\": \"\"}, \"bgcolor\": \"#E5ECF6\", \"radialaxis\": {\"gridcolor\": \"white\", \"linecolor\": \"white\", \"ticks\": \"\"}}, \"scene\": {\"xaxis\": {\"backgroundcolor\": \"#E5ECF6\", \"gridcolor\": \"white\", \"gridwidth\": 2, \"linecolor\": \"white\", \"showbackground\": true, \"ticks\": \"\", \"zerolinecolor\": \"white\"}, \"yaxis\": {\"backgroundcolor\": \"#E5ECF6\", \"gridcolor\": \"white\", \"gridwidth\": 2, \"linecolor\": \"white\", \"showbackground\": true, \"ticks\": \"\", \"zerolinecolor\": \"white\"}, \"zaxis\": {\"backgroundcolor\": \"#E5ECF6\", \"gridcolor\": \"white\", \"gridwidth\": 2, \"linecolor\": \"white\", \"showbackground\": true, \"ticks\": \"\", \"zerolinecolor\": \"white\"}}, \"shapedefaults\": {\"line\": {\"color\": \"#2a3f5f\"}}, \"ternary\": {\"aaxis\": {\"gridcolor\": \"white\", \"linecolor\": \"white\", \"ticks\": \"\"}, \"baxis\": {\"gridcolor\": \"white\", \"linecolor\": \"white\", \"ticks\": \"\"}, \"bgcolor\": \"#E5ECF6\", \"caxis\": {\"gridcolor\": \"white\", \"linecolor\": \"white\", \"ticks\": \"\"}}, \"title\": {\"x\": 0.05}, \"xaxis\": {\"automargin\": true, \"gridcolor\": \"white\", \"linecolor\": \"white\", \"ticks\": \"\", \"title\": {\"standoff\": 15}, \"zerolinecolor\": \"white\", \"zerolinewidth\": 2}, \"yaxis\": {\"automargin\": true, \"gridcolor\": \"white\", \"linecolor\": \"white\", \"ticks\": \"\", \"title\": {\"standoff\": 15}, \"zerolinecolor\": \"white\", \"zerolinewidth\": 2}}}, \"title\": {\"text\": \"Training loss of the Model\"}, \"xaxis\": {\"anchor\": \"y\", \"domain\": [0.0, 1.0], \"title\": {\"text\": \"Epoch\"}}, \"yaxis\": {\"anchor\": \"x\", \"domain\": [0.0, 1.0], \"title\": {\"text\": \"Loss\"}}},\n",
              "                        {\"responsive\": true}\n",
              "                    ).then(function(){\n",
              "                            \n",
              "var gd = document.getElementById('3e6b5f4f-88c6-4523-a79b-4d25de032ba7');\n",
              "var x = new MutationObserver(function (mutations, observer) {{\n",
              "        var display = window.getComputedStyle(gd).display;\n",
              "        if (!display || display === 'none') {{\n",
              "            console.log([gd, 'removed!']);\n",
              "            Plotly.purge(gd);\n",
              "            observer.disconnect();\n",
              "        }}\n",
              "}});\n",
              "\n",
              "// Listen for the removal of the full notebook cells\n",
              "var notebookContainer = gd.closest('#notebook-container');\n",
              "if (notebookContainer) {{\n",
              "    x.observe(notebookContainer, {childList: true});\n",
              "}}\n",
              "\n",
              "// Listen for the clearing of the current output cell\n",
              "var outputEl = gd.closest('.output');\n",
              "if (outputEl) {{\n",
              "    x.observe(outputEl, {childList: true});\n",
              "}}\n",
              "\n",
              "                        })\n",
              "                };\n",
              "                \n",
              "            </script>\n",
              "        </div>\n",
              "</body>\n",
              "</html>"
            ]
          },
          "metadata": {
            "tags": []
          }
        }
      ]
    },
    {
      "cell_type": "code",
      "metadata": {
        "colab": {
          "base_uri": "https://localhost:8080/"
        },
        "id": "7dh-NO1vDmuQ",
        "outputId": "5cbd08a1-3bf3-4d16-fe43-119186f2649a"
      },
      "source": [
        "from sklearn.metrics import classification_report\n",
        "target_names = ['class 0', 'class 1']\n",
        "print(classification_report(evaluation(pred_dataloader,net)[1].cpu(), evaluation(pred_dataloader,net)[0].cpu(), target_names=target_names))"
      ],
      "execution_count": 404,
      "outputs": [
        {
          "output_type": "stream",
          "text": [
            "              precision    recall  f1-score   support\n",
            "\n",
            "     class 0       0.99      0.96      0.97      1660\n",
            "     class 1       0.85      0.97      0.91       407\n",
            "\n",
            "    accuracy                           0.96      2067\n",
            "   macro avg       0.92      0.96      0.94      2067\n",
            "weighted avg       0.96      0.96      0.96      2067\n",
            "\n"
          ],
          "name": "stdout"
        }
      ]
    },
    {
      "cell_type": "markdown",
      "metadata": {
        "id": "YC3MbzA_LG0O"
      },
      "source": [
        "# **PREDICTION**"
      ]
    },
    {
      "cell_type": "code",
      "metadata": {
        "colab": {
          "base_uri": "https://localhost:8080/"
        },
        "id": "jnq2-nKvySIj",
        "outputId": "7b96064e-aa16-4a44-d77e-cf5d87c70700"
      },
      "source": [
        "resume_weights = '/content/drive/MyDrive/Inter IIT/checkpoint_article_latent_mix_high_seq_len.pth.tar'\n",
        "import os.path\n",
        "# If exists a best model, load its weights!\n",
        "if os.path.isfile(resume_weights):\n",
        "    #print(\"=> loading checkpoint '{}' ...\".format(resume_weights))\n",
        "    if device_gpu:\n",
        "        checkpoint = torch.load(resume_weights)\n",
        "    else:\n",
        "        # Load GPU model on CPU\n",
        "        checkpoint = torch.load(resume_weights,\n",
        "                                map_location=lambda storage,\n",
        "                                loc: storage)\n",
        "    start_epoch = checkpoint['epoch']\n",
        "    best_accuracy = checkpoint['best_accuracy']\n",
        "    net.load_state_dict(checkpoint['state_dict'])\n",
        "    print(\"=> loaded checkpoint '{}' (trained for {} epochs)\",checkpoint['epoch'],best_accuracy,start_epoch)"
      ],
      "execution_count": 424,
      "outputs": [
        {
          "output_type": "stream",
          "text": [
            "=> loaded checkpoint '{}' (trained for {} epochs) 61 0.96 61\n"
          ],
          "name": "stdout"
        }
      ]
    },
    {
      "cell_type": "code",
      "metadata": {
        "id": "3Q8h3JGF6_Yj"
      },
      "source": [
        "for j in range(data.shape[0]):\n",
        "  if data[\"Mobile_Tech_Tag\"].values[j]==1:\n",
        "    text.append(data[\"Tweet\"].values[j])\n"
      ],
      "execution_count": null,
      "outputs": []
    },
    {
      "cell_type": "code",
      "metadata": {
        "colab": {
          "base_uri": "https://localhost:8080/"
        },
        "id": "uy_vac1WLFxm",
        "outputId": "166d6c74-79c7-47b0-f471-8935c8ae3be4"
      },
      "source": [
        "count=0\n",
        "for j in range(data.shape[0]):\n",
        "  text=[]\n",
        "  if data[\"Mobile_Tech_Tag\"].values[j]==1:\n",
        "    text.append(data[\"Tweet\"].values[j])\n",
        "    # text.append(\"Xiaomi has the\")\n",
        "      # print(i)\n",
        "    text[0]=re.sub(r\"https\\S+\", \"\", str(text[0]))\n",
        "    text[0]=re.sub(r\"http\\S+\", \"\", text[0])\n",
        "    text[0]=re.sub(r\"@\\S+\", \"\", text[0])\n",
        "    text[0]=re.sub(r\"Cc\\S+\", \"\", text[0])\n",
        "    text[0]=re.sub(r\"[0-9]\",\"\",text[0])\n",
        "    text[0]=re.sub(r\"#\",\"\",text[0])\n",
        "    text[0]=re.sub(r\"-\",\" \",text[0])\n",
        "    text[0]=re.sub(r\"/\",\" or \",text[0])\n",
        "    text[0]=re.sub(r\"&\",\" and \",text[0])\n",
        "    text[0]=re.sub(r\"\\'ll\",\" will \",text[0])\n",
        "    text[0]=re.sub(r\"[,.?!$%^*@:][\\'।\\'\\\"]\",\" \",text[0])\n",
        "    text[0]=re.sub(r\"\\?\",\" \",text[0])\n",
        "    text[0]=re.sub(r\"\\.\",\" \",text[0])\n",
        "    text[0]=re.sub(r\"\\>\",\" \",text[0])\n",
        "    text[0]=re.sub(r\"\\<\",\" \",text[0])\n",
        "    text[0]=re.sub(r\"\\'\",\" \",text[0])\n",
        "    text[0]=re.sub(r\"_\",\" \",text[0])\n",
        "    text[0]=re.sub(r\"-\",\" \",text[0])\n",
        "    text[0]=re.sub(r\"\\(\",\" \",text[0])\n",
        "    text[0]=re.sub(r\"\\'\",\" \",text[0])\n",
        "    text[0]=re.sub(r\"\\)\",\" \",text[0])\n",
        "    text[0]=re.sub(r\"[\\U00010000-\\U0010ffff]\",\"\",text[0],flags=re.UNICODE)\n",
        "    text[0]=re.sub(r\"RT\",\"\",text[0])\n",
        "    text[0]=re.sub(r\"–\",\" \",text[0])\n",
        "    text[0]=re.sub(r\"\\s+\",\" \",text[0])\n",
        "    text[0]=text[0].lower()\n",
        "    text[0]=' '.join( [w for w in text[0].split() if len(w)>1] )\n",
        "    text[0]=text[0].strip()\n",
        "\n",
        "    # print(text[0])\n",
        "    t=text[0]\n",
        "    net=net.to('cpu')\n",
        "    value=net(torch.LongTensor(pred_phone(t)[t].reshape(1,550)),None)[1]\n",
        "    if np.argmax(value.detach().numpy())!=data[\"Mobile_Tech_Tag\"].values[j]:\n",
        "      count=count+1\n",
        "      # print(j)\n",
        "      # print(t,data[\"Mobile_Tech_Tag\"].values[j])\n",
        "print(count)"
      ],
      "execution_count": 423,
      "outputs": [
        {
          "output_type": "stream",
          "text": [
            "20\n"
          ],
          "name": "stdout"
        }
      ]
    },
    {
      "cell_type": "code",
      "metadata": {
        "id": "etYBJ5GAfwB5"
      },
      "source": [
        "def pred_phone(t):\n",
        "  pred={}\n",
        "  final=[]\n",
        "  a=t.split()\n",
        "  a=a[:150]\n",
        "  for j in range(len(a)):\n",
        "    # print(j,len(a[j]),a[j])\n",
        "    pattern=re.compile(\"[A-Za-z]+\")\n",
        "    temp=pattern.fullmatch(a[j])\n",
        "    if temp is not None:\n",
        "      b=\"en\"\n",
        "      s=[]\n",
        "      out = g2p(a[j])\n",
        "      # print(out)\n",
        "      for x in range(len(out)):\n",
        "        out[x]=re.sub(r\"[0-9]\",\"\",out[x])\n",
        "        # print(x)\n",
        "        out[x]=re.sub(r\"\\.\",\"\",out[x])\n",
        "        out[x]=re.sub(r\"\\,\",\"\",out[x])\n",
        "        if out[x]!=\"\":\n",
        "          s.append(converter[out[x]])\n",
        "    else:\n",
        "      b=\"hi\"\n",
        "      s=text_phonemes(a[j])[0]\n",
        "    if len(s)>0:\n",
        "      final.append(s)\n",
        "    final.append([\"SIL\"])\n",
        "  # print(final)\n",
        "  vocab=[]\n",
        "  for key,values in converter.items():\n",
        "    vocab.append(values)\n",
        "  word_to_ix = {word: i+1 for i, word in enumerate(vocab)}\n",
        "  phonemes_num=[]\n",
        "  for j in range(len(final)):\n",
        "    a_temp=[]\n",
        "    for i in range(len(final[j])):\n",
        "      # print([word_to_ix[w] for w in phonemes_final[i]])\n",
        "      a_temp.append(word_to_ix[final[j][i]])\n",
        "    phonemes_num.append(a_temp)\n",
        "  \n",
        "  for i in range(1,len(phonemes_num)):\n",
        "    phonemes_num[0].extend(phonemes_num[i])\n",
        "  go=[]\n",
        "  go.append(phonemes_num[0])\n",
        "\n",
        "  input_ids = pad_sequences(go, maxlen=550, dtype=\"long\", value=0, truncating=\"post\", padding=\"post\")\n",
        "  pred[t]=input_ids\n",
        "  return pred"
      ],
      "execution_count": 392,
      "outputs": []
    },
    {
      "cell_type": "code",
      "metadata": {
        "id": "Vf9QAaKUA0vU"
      },
      "source": [
        "t=\"top 10 gadgets are no there in our country\""
      ],
      "execution_count": 420,
      "outputs": []
    },
    {
      "cell_type": "code",
      "metadata": {
        "id": "zTugsf0lBE2k"
      },
      "source": [
        "net=net.to('cpu')\n",
        "value=net(torch.LongTensor(pred_phone(t)[t].reshape(1,550)),None)"
      ],
      "execution_count": 421,
      "outputs": []
    },
    {
      "cell_type": "code",
      "metadata": {
        "colab": {
          "base_uri": "https://localhost:8080/"
        },
        "id": "i-TQcrgNjknO",
        "outputId": "7f0d92fc-e36b-46a3-9d14-8a874a7745ef"
      },
      "source": [
        "value[1]"
      ],
      "execution_count": 422,
      "outputs": [
        {
          "output_type": "execute_result",
          "data": {
            "text/plain": [
              "tensor([[-2.8630, -7.1945]], grad_fn=<AddmmBackward>)"
            ]
          },
          "metadata": {
            "tags": []
          },
          "execution_count": 422
        }
      ]
    },
    {
      "cell_type": "code",
      "metadata": {
        "id": "06eR4lvBBNU3"
      },
      "source": [
        "v3=[softmax(np.mean(value[i].squeeze(0).detach().numpy(),axis=0)) for i in range(3)]"
      ],
      "execution_count": null,
      "outputs": []
    },
    {
      "cell_type": "code",
      "metadata": {
        "colab": {
          "base_uri": "https://localhost:8080/"
        },
        "id": "Q6G12B96dgBW",
        "outputId": "6960881e-7dfd-4ca1-ae21-ca577e29f980"
      },
      "source": [
        "v3[2].shape"
      ],
      "execution_count": null,
      "outputs": [
        {
          "output_type": "execute_result",
          "data": {
            "text/plain": [
              "(286,)"
            ]
          },
          "metadata": {
            "tags": []
          },
          "execution_count": 240
        }
      ]
    },
    {
      "cell_type": "code",
      "metadata": {
        "id": "3BqrnPLJlHTB",
        "colab": {
          "base_uri": "https://localhost:8080/",
          "height": 274
        },
        "outputId": "d9d57778-76c1-49c9-e36d-8ea9e91c542e"
      },
      "source": [
        "index=[a for a in range(284)]\n",
        "df = pd.DataFrame({'1st': v3[0][:284], '2nd': v3[1][:284], '3rd': v3[2][:284]},index=index)\n",
        "ax = df.plot.bar()\n",
        "# ax.title.set_text(text[3805])"
      ],
      "execution_count": null,
      "outputs": [
        {
          "output_type": "display_data",
          "data": {
            "image/png": "[encoded data removed]",
            "text/plain": [
              "<Figure size 432x288 with 1 Axes>"
            ]
          },
          "metadata": {
            "tags": [],
            "needs_background": "light"
          }
        }
      ]
    },
    {
      "cell_type": "code",
      "metadata": {
        "colab": {
          "base_uri": "https://localhost:8080/",
          "height": 35
        },
        "id": "2oF5NcINg0Hr",
        "outputId": "70f0f903-ba70-480d-c3b9-094bcc75cd76"
      },
      "source": [
        "text[3805]"
      ],
      "execution_count": null,
      "outputs": [
        {
          "output_type": "execute_result",
          "data": {
            "application/vnd.google.colaboratory.intrinsic+json": {
              "type": "string"
            },
            "text/plain": [
              "'Oppo का ये स्मार्टफ़ोन अब मिल रहा है रुपये में मिलता है MP कैमरा'"
            ]
          },
          "metadata": {
            "tags": []
          },
          "execution_count": 147
        }
      ]
    },
    {
      "cell_type": "code",
      "metadata": {
        "colab": {
          "base_uri": "https://localhost:8080/",
          "height": 268
        },
        "id": "-lszwkEzezEK",
        "outputId": "07d1aa38-7522-4f0e-8a4c-9d9c70802ea5"
      },
      "source": [
        "index=[a for a in range(284)]\n",
        "df = pd.DataFrame({'1st': v2[0][:284], '2nd': v2[1][:284], '3rd': v2[2][:284]},index=index)\n",
        "ax = df.plot.bar()\n",
        "ax.title.set_text(text[3456])"
      ],
      "execution_count": null,
      "outputs": [
        {
          "output_type": "display_data",
          "data": {
            "image/png": "[encoded data removed]",
            "text/plain": [
              "<Figure size 432x288 with 1 Axes>"
            ]
          },
          "metadata": {
            "tags": [],
            "needs_background": "light"
          }
        }
      ]
    },
    {
      "cell_type": "code",
      "metadata": {
        "id": "CfF5xm1dQnvR",
        "colab": {
          "base_uri": "https://localhost:8080/"
        },
        "outputId": "7db1cc93-62e2-466f-a37b-c7e1eed8a779"
      },
      "source": [
        "f=np.array([[2,3,4],[4,5,6]])\n",
        "np.mean(f,axis=0)"
      ],
      "execution_count": null,
      "outputs": [
        {
          "output_type": "execute_result",
          "data": {
            "text/plain": [
              "array([3., 4., 5.])"
            ]
          },
          "metadata": {
            "tags": []
          },
          "execution_count": 90
        }
      ]
    },
    {
      "cell_type": "code",
      "metadata": {
        "colab": {
          "base_uri": "https://localhost:8080/"
        },
        "id": "_6HLPgfyXuvA",
        "outputId": "12eaa657-2ee8-440c-b7e0-094c84ea91b9"
      },
      "source": [
        "from scipy.special import softmax\n",
        "softmax(np.mean(f,axis=0))"
      ],
      "execution_count": null,
      "outputs": [
        {
          "output_type": "execute_result",
          "data": {
            "text/plain": [
              "Loss    1.0\n",
              "dtype: float64"
            ]
          },
          "metadata": {
            "tags": []
          },
          "execution_count": 220
        }
      ]
    },
    {
      "cell_type": "code",
      "metadata": {
        "id": "w0ePoI4tRuyQ"
      },
      "source": [
        ""
      ],
      "execution_count": null,
      "outputs": []
    }
  ]
}